{
 "cells": [
  {
   "cell_type": "markdown",
   "id": "9ddd4977-c41a-4700-9c92-3d92ba9f88bb",
   "metadata": {},
   "source": [
    "#### 1) what is multithreading in python? why is it used? Name the module used to handle threads in python\n"
   ]
  },
  {
   "cell_type": "markdown",
   "id": "6c32b30c-380e-4ccc-94ea-d9d6b10e194c",
   "metadata": {},
   "source": [
    "Ans:- \n",
    "#### What\n",
    "Multithreading:- multithreading is one of the feature of python through which we can run multiple part of program at once within the same process and every part is known as thread, allowing the program to perform multiple task simultaneously. it is very usefull when program need to wait of resources till then it run other threads to memory and time effecient\n",
    "#### Why\n",
    "Multithreading is used in python to enable concurrent exceution of tasks and improve the efficiency of the programs that deals with I/O operation and variable locks, it allow parllel execution of threads, it is most effective when dealing with tasks that invole waiting for external resorces\n",
    "#### Module\n",
    "the module used to handle threads in python is called \"Threading\"-> import threading. it provides classes and functions to work with threads, allow to create, start, and manage them efficiently \n"
   ]
  },
  {
   "cell_type": "markdown",
   "id": "0dc6ee51-fcd2-43b2-959d-26b24ed1ed40",
   "metadata": {},
   "source": [
    "#### 2) why threading module used? write the use of the following functions\n",
    " 1) activeCount()\n",
    " 2) currentThread()\n",
    " 3) enumerate()\n"
   ]
  },
  {
   "cell_type": "markdown",
   "id": "35c252a4-a433-4ec2-87df-79188ec9ae30",
   "metadata": {},
   "source": [
    "Ans:-\n",
    "#### 1) activeCount():-\n",
    "The 'activeCount()' function in the threading module is used to determine the number of active threads that are currently running in python program. it returns an integer repersenting the count of active threads, inculding the main thread.\n",
    "\n",
    "the main purpose of using activeCount() is to monitor the number of thread running at particular point in your program's execution this info can be used in various resons like\n",
    "1) debugging, 2) resource management 3) performance optimization\n",
    "\n",
    "#### 2) currentThread():-\n",
    "this function is used to obtain a refernce to the currently running thread object. it returns an instance of the thread class repersenting the thread that is executing the 'currentThread()' function\n",
    "\n",
    "the primary use of 'currentThread()' is to access information about the current thread, which can helpul for \n",
    "1) Thread Identification 2) Thread Monitoring\n",
    "\n",
    "#### 3) enumerate():- \n",
    "this function in threading module used to obtain a list of all currntly active 'Thread' object. it returns a list contain alive and runnning in the Python program.\n",
    "\n",
    "the main use of the 'enumerate()' function is to get insight into the currntly active threads and to perform operations on them, which can be helpfull in\n",
    "1) Debugging 2) Thread management"
   ]
  },
  {
   "cell_type": "markdown",
   "id": "e53888ab-0ec2-4a36-adc6-f9951e4fc41b",
   "metadata": {},
   "source": [
    "#### 3. Explain the following functions\n",
    " run()\n",
    " start()\n",
    " join()\n",
    " isAlive()\n"
   ]
  },
  {
   "cell_type": "markdown",
   "id": "e033b796-1fed-4699-817d-5788275d6ed3",
   "metadata": {},
   "source": [
    "Ans:-\n",
    "#### Run()\n",
    "the run() method is not directly used in threading. instead, it is called implicity when you use the start method to start a new thread. when you create a custom 'Thread' object and override the run() method in your subclass, the code inside the run() method will b execute in seprate thread when you call start method\n",
    "\n",
    "#### Start()\n",
    "this Method is used to start a new thraed of exceution. when you start to call start() on thread object, it create a new thread and begin the execution of run() method in seprate thread. 'it allow you to run multiple threads concurrently and exceute task simultaneously'\n",
    "\n",
    "#### Join()\n",
    "this join method is used to wait for a thread to complete its exceution. when you call join() on a thread object the program will block and wait until that thread finishes its task. this is useful to ensure that the main thread or other threads don't proceed until the specific thread has completed its job\n",
    "\n",
    "#### isAlive()\n",
    "this method is used to check whether a thread is currenlty running or not. it return true if thread is still active and false if thread has ccompleted its task or has not started yet"
   ]
  },
  {
   "cell_type": "markdown",
   "id": "dc059abd-e08a-4001-a604-c3f9e2892bda",
   "metadata": {},
   "source": [
    "#### 4. Write a python program to create two threads. Thread one must print the list of squares and thread two must print the list of cubes\n"
   ]
  },
  {
   "cell_type": "code",
   "execution_count": 2,
   "id": "509bbc8b-7a5d-4b45-941d-a19d66bc5e92",
   "metadata": {},
   "outputs": [
    {
     "name": "stdout",
     "output_type": "stream",
     "text": [
      "Squares: [4, 16, 25, 9, 49]\n",
      "Cubes: [8, 64, 125, 27, 343]\n"
     ]
    }
   ],
   "source": [
    "import threading\n",
    "\n",
    "def print_sq(numbers):\n",
    "    sq=[n**2 for n in numbers]\n",
    "    print(\"Squares:\", sq)\n",
    "    \n",
    "def print_qub(numbers):\n",
    "    qub=[n**3 for n in numbers]\n",
    "    print(\"Cubes:\", qub)\n",
    "    \n",
    "list=[2,4,5,3,7]\n",
    "\n",
    "thread_sq=threading.Thread(target=print_sq, args=(list,))\n",
    "thread_qub=threading.Thread(target=print_qub, args=(list,))\n",
    "\n",
    "thread_sq.start()\n",
    "thread_qub.start()\n",
    "\n",
    "thread_sq.join()\n",
    "thread_qub.join()"
   ]
  },
  {
   "cell_type": "markdown",
   "id": "ce293514-b03d-4d40-81cd-e22e5d92bdb2",
   "metadata": {},
   "source": [
    "#### 5. State advantages and disadvantages of multithreading\n"
   ]
  },
  {
   "cell_type": "markdown",
   "id": "52914b68-6033-45f6-9c49-e3df88521b9a",
   "metadata": {},
   "source": [
    "Advantage:- \n",
    "\n",
    "Improved Responsiveness: multithreading allows a program to perform multiple task concurrently, provide better responsive\n",
    "\n",
    "Resource sharing:- threads can share the same memory space, making it easier to share data and resources between different threads\n",
    "\n",
    "faster execution:- in certain cases, when dealing with I/o task, it can speed up the overall execution of the program by utilizing idle cpu time\n",
    "\n",
    "Simplified code:- using threads can simplify the design of some applications\n",
    "\n",
    "Disadvantage:-\n",
    "\n",
    "Global Interpreter Lock(GIL): python the gil restricts true parallel exceution of threds in the same process, limiting the potential\n",
    "\n",
    "Complexity:- especially in managing shared resources and synchronization, deadlocks, race condition\n",
    "\n",
    "Increase Memory Usages:- each thread consume memory for its stack"
   ]
  },
  {
   "cell_type": "markdown",
   "id": "02f0fbbf-1435-408c-90e1-0d4117f44865",
   "metadata": {},
   "source": [
    "#### 6. Explain deadlocks and race conditions."
   ]
  },
  {
   "cell_type": "markdown",
   "id": "6340a934-a0b3-4a5a-aa99-65bd2d1bf879",
   "metadata": {},
   "source": [
    "#### Deadlock:-\n",
    "deadlock is a situation in which two or more threads are blocked each other, waiting for each other to relesa resources that they need to proceed. it occurs when there is a circular dependency of resourses and each thread is holding one resources while waiting for other resource held by another thread\n",
    "\n",
    "#### Race Condition:-\n",
    "a race condition is a situation in which the behavior of a program depends on the relative timing of events, particularly when multiple threads access shared resources at a time without proper synchronization"
   ]
  },
  {
   "cell_type": "code",
   "execution_count": null,
   "id": "854539e3-3943-45dd-9ffc-1c1f37e623bd",
   "metadata": {},
   "outputs": [],
   "source": []
  }
 ],
 "metadata": {
  "kernelspec": {
   "display_name": "Python 3 (ipykernel)",
   "language": "python",
   "name": "python3"
  },
  "language_info": {
   "codemirror_mode": {
    "name": "ipython",
    "version": 3
   },
   "file_extension": ".py",
   "mimetype": "text/x-python",
   "name": "python",
   "nbconvert_exporter": "python",
   "pygments_lexer": "ipython3",
   "version": "3.10.8"
  }
 },
 "nbformat": 4,
 "nbformat_minor": 5
}
