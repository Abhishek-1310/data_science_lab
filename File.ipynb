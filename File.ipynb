{
 "cells": [
  {
   "cell_type": "markdown",
   "id": "1aa2f201-b2dd-4366-a613-b35177fafeb0",
   "metadata": {},
   "source": [
    "#### Q1. Which function is used to open a file? What are the different modes of opening a file? Explain each mode of file opening.\n"
   ]
  },
  {
   "cell_type": "markdown",
   "id": "290776ff-8c81-4314-b8c7-9725da838ec8",
   "metadata": {},
   "source": [
    "ans:-\n",
    "1) open function is used to open a file like f=open(\"test.txt\",'w')\n",
    "\n",
    "2) different mode of opening a file\n",
    "    'w', 'a', 'r' \n",
    "    \n",
    "3) 'w':- is used to write the data but truncate the previous data from file and update new one\n",
    "    'a':- used to write the data in file but it doesn't remove previous data it will add the data in old file\n",
    "    'r':- is used to read the file or data"
   ]
  },
  {
   "cell_type": "markdown",
   "id": "a5e6ed69-f790-44e0-92d3-0040169b932a",
   "metadata": {},
   "source": [
    "#### Q2. Why close() function is used? Why is it important to close a file?\n"
   ]
  },
  {
   "cell_type": "markdown",
   "id": "254a6902-5853-4464-a346-fd603b6d028d",
   "metadata": {},
   "source": [
    "ans:- close() function is python is used to close a file that has been opened for reading, writting, or any other file-related operations\n",
    "\n",
    "close is importance for a sevral resons like\n",
    "1. resource management\n",
    "2. data integrity\n",
    "3. file locking\n",
    "4. avoid data corruption"
   ]
  },
  {
   "cell_type": "markdown",
   "id": "874f991c-07d6-41c6-8091-6131dbe51dcf",
   "metadata": {},
   "source": [
    "#### Q3. Write a python program to create a text file. Write ‘I want to become a Data Scientist’ in that file. Then close the file. Open this file and read the content of the file.\n"
   ]
  },
  {
   "cell_type": "code",
   "execution_count": 1,
   "id": "9d377ae7-a13e-4070-9322-4907e607f9e6",
   "metadata": {},
   "outputs": [],
   "source": [
    "f=open(\"text.txt\",'w')\n",
    "f.write(\"I Want to become a Data Scientist\")\n",
    "f.close()"
   ]
  },
  {
   "cell_type": "code",
   "execution_count": 2,
   "id": "ec2d7f02-50cc-44e2-a9b1-93254f612678",
   "metadata": {},
   "outputs": [
    {
     "data": {
      "text/plain": [
       "'I Want to become a Data Scientist'"
      ]
     },
     "execution_count": 2,
     "metadata": {},
     "output_type": "execute_result"
    }
   ],
   "source": [
    "f=open(\"text.txt\",'r')\n",
    "f.read()"
   ]
  },
  {
   "cell_type": "markdown",
   "id": "bcbe7acc-a1ae-4bc1-9f64-343abd66642b",
   "metadata": {},
   "source": [
    "#### Q4. Explain the following with python code: read(), readline() and readlines().\n"
   ]
  },
  {
   "cell_type": "code",
   "execution_count": 5,
   "id": "e0ea337d-92b5-4be0-95b8-cfe717970918",
   "metadata": {},
   "outputs": [
    {
     "data": {
      "text/plain": [
       "'I Want to become a Data Scientist'"
      ]
     },
     "execution_count": 5,
     "metadata": {},
     "output_type": "execute_result"
    }
   ],
   "source": [
    "f.seek(0)\n",
    "f.read()"
   ]
  },
  {
   "cell_type": "markdown",
   "id": "8c55dcf4-7497-4f2a-a7ed-cf5c507551c8",
   "metadata": {},
   "source": [
    "read() function is used to read the data at once , this method reads the entire cotent of the file as a single string"
   ]
  },
  {
   "cell_type": "code",
   "execution_count": 7,
   "id": "91b66a76-8494-47f9-b091-20e25344b568",
   "metadata": {},
   "outputs": [],
   "source": [
    "f=open(\"text1.txt\",'w')\n",
    "f.write(\"Hello i am abhishek \\n i am a data science\")\n",
    "f.close()"
   ]
  },
  {
   "cell_type": "code",
   "execution_count": 8,
   "id": "b815e0e0-ab14-4734-950c-b0ed8d3c91a8",
   "metadata": {},
   "outputs": [
    {
     "name": "stdout",
     "output_type": "stream",
     "text": [
      "Hello i am abhishek \n",
      "\n",
      " i am a data science\n"
     ]
    }
   ],
   "source": [
    "with open(\"text1.txt\",'r') as file:\n",
    "    ln1=file.readline()\n",
    "    ln2=file.readline()\n",
    "    print(ln1)\n",
    "    print(ln2)"
   ]
  },
  {
   "cell_type": "markdown",
   "id": "ad567953-4b40-4a12-aaff-4292dad8215f",
   "metadata": {},
   "source": [
    "this method reads a single line from the file at a time, it return the current line as a string it inculde new line character from \\n"
   ]
  },
  {
   "cell_type": "code",
   "execution_count": 9,
   "id": "38b8b6f4-6368-4ac5-b759-7aa643c1567f",
   "metadata": {},
   "outputs": [
    {
     "name": "stdout",
     "output_type": "stream",
     "text": [
      "['Hello i am abhishek \\n', ' i am a data science']\n"
     ]
    }
   ],
   "source": [
    "with open(\"text1.txt\",'r') as file:\n",
    "    ln=file.readlines()\n",
    "    print(ln)"
   ]
  },
  {
   "cell_type": "markdown",
   "id": "f97170ba-bc73-48df-9ec2-36b0b4e72b54",
   "metadata": {},
   "source": [
    "this method reads all the line of the file and returns them as a list of string. each line is a element in the list, and the newline character '\\n'"
   ]
  },
  {
   "cell_type": "markdown",
   "id": "d86ddbcd-6aee-4914-a2e2-1cd149942b88",
   "metadata": {},
   "source": [
    "#### Q5. Explain why with statement is used with open(). What is the advantage of using with statement and open() together?\n"
   ]
  },
  {
   "cell_type": "markdown",
   "id": "12afedcd-6552-4288-b23f-1a3e28b600a9",
   "metadata": {},
   "source": [
    "with is used with open() because it is used to close the file at the end, there is no need to close the file manually with would automatically close it for you, if youu have file or object that you make sure that it is cleaned once you are done with it"
   ]
  },
  {
   "cell_type": "markdown",
   "id": "25e514d9-b8ef-45f6-b34f-5f0606ab8914",
   "metadata": {},
   "source": [
    "#### Q6. Explain the write() and writelines() functions. Give a suitable example."
   ]
  },
  {
   "cell_type": "markdown",
   "id": "098694c3-6b4d-4e4e-90d0-3507f08a2605",
   "metadata": {},
   "source": [
    "write() method is used to write a string to a file, it take a single argument, which i sthe string data that you want to write into the file if file doesn't exist, then it will create and if file alrady exist then data will be overwritten.\n",
    "\n",
    "writelines() method is used to write a list of string to a file, it take a string as a argument, and each element of the list will be written as a seprate line to the file"
   ]
  },
  {
   "cell_type": "code",
   "execution_count": 1,
   "id": "d06d1ae2-e53b-4d0b-9118-997837696be8",
   "metadata": {},
   "outputs": [],
   "source": [
    "with open(\"write.txt\",\"w\") as f:\n",
    "    f.write(\"Hello, abhsihek how are you. \\n\")\n",
    "    f.write(\"abhsihek what we will study \\n\")\n",
    "    f.write(\"let's go \\n\")"
   ]
  },
  {
   "cell_type": "code",
   "execution_count": 2,
   "id": "3ee095b1-2d23-403f-9e34-f11ca42de6a0",
   "metadata": {},
   "outputs": [],
   "source": [
    "line=[\"list1\\n\",\"list2\\n\",\"list3\\n\",\"list4\\n\"]\n",
    "with open(\"write1.txt\",\"w\") as f:\n",
    "    f.writelines(line)"
   ]
  },
  {
   "cell_type": "code",
   "execution_count": null,
   "id": "32f3daf5-facb-4b96-9458-6ad8634ce3a1",
   "metadata": {},
   "outputs": [],
   "source": []
  }
 ],
 "metadata": {
  "kernelspec": {
   "display_name": "Python 3 (ipykernel)",
   "language": "python",
   "name": "python3"
  },
  "language_info": {
   "codemirror_mode": {
    "name": "ipython",
    "version": 3
   },
   "file_extension": ".py",
   "mimetype": "text/x-python",
   "name": "python",
   "nbconvert_exporter": "python",
   "pygments_lexer": "ipython3",
   "version": "3.10.8"
  }
 },
 "nbformat": 4,
 "nbformat_minor": 5
}
