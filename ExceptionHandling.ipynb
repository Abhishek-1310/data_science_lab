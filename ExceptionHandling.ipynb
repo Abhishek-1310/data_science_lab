{
 "cells": [
  {
   "cell_type": "markdown",
   "id": "485173f3-5b35-4e4e-8212-c94583303eb7",
   "metadata": {},
   "source": [
    "#### Q1. What is an Exception in python? Write the difference between Exceptions and Syntax errors."
   ]
  },
  {
   "cell_type": "markdown",
   "id": "e3caae69-7422-40d4-8c68-d6a875a960ae",
   "metadata": {},
   "source": [
    "Ans:- Exception is a unwanted situation come at runtime of program and if we not handle that exception properly it will terminate the program\n",
    "\n",
    "difference between exception and syntax errors\n",
    ". both are two distinct types of errors.\n",
    "\n",
    "1) Syntax Error:- it is occurs when there is a mistake in the code's structure, making a invalid python synta, this usually happens during the parsing phase, missing colons, incorrect indentation\n",
    "\n",
    "2) Exception:- it is occurs during the exceution of a python program  when something unexpected happen. it can be due to various reasons, due to zero divison error, file not found and it is handled by try except block"
   ]
  },
  {
   "cell_type": "markdown",
   "id": "73af43d4-d00c-4eda-a9be-c02ac414ac87",
   "metadata": {},
   "source": [
    "#### Q2. What happens when an exception is not handled? Explain with an example.\n",
    "\n",
    "Ans:- when exception is not handled it leads to the termination of the program, and an erro trackback is display"
   ]
  },
  {
   "cell_type": "code",
   "execution_count": 1,
   "id": "56f6d924-e53d-4456-b4a4-479a30a7566f",
   "metadata": {},
   "outputs": [
    {
     "ename": "ZeroDivisionError",
     "evalue": "division by zero",
     "output_type": "error",
     "traceback": [
      "\u001b[0;31m---------------------------------------------------------------------------\u001b[0m",
      "\u001b[0;31mZeroDivisionError\u001b[0m                         Traceback (most recent call last)",
      "Cell \u001b[0;32mIn[1], line 4\u001b[0m\n\u001b[1;32m      1\u001b[0m \u001b[38;5;28;01mdef\u001b[39;00m \u001b[38;5;21mdivision\u001b[39m(a,b):\n\u001b[1;32m      2\u001b[0m     \u001b[38;5;28;01mreturn\u001b[39;00m a\u001b[38;5;241m/\u001b[39mb\n\u001b[0;32m----> 4\u001b[0m result\u001b[38;5;241m=\u001b[39m\u001b[43mdivision\u001b[49m\u001b[43m(\u001b[49m\u001b[38;5;241;43m10\u001b[39;49m\u001b[43m,\u001b[49m\u001b[38;5;241;43m0\u001b[39;49m\u001b[43m)\u001b[49m\n\u001b[1;32m      5\u001b[0m \u001b[38;5;28mprint\u001b[39m(\u001b[38;5;124m\"\u001b[39m\u001b[38;5;124mdivision number is:-\u001b[39m\u001b[38;5;124m\"\u001b[39m,result)\n",
      "Cell \u001b[0;32mIn[1], line 2\u001b[0m, in \u001b[0;36mdivision\u001b[0;34m(a, b)\u001b[0m\n\u001b[1;32m      1\u001b[0m \u001b[38;5;28;01mdef\u001b[39;00m \u001b[38;5;21mdivision\u001b[39m(a,b):\n\u001b[0;32m----> 2\u001b[0m     \u001b[38;5;28;01mreturn\u001b[39;00m \u001b[43ma\u001b[49m\u001b[38;5;241;43m/\u001b[39;49m\u001b[43mb\u001b[49m\n",
      "\u001b[0;31mZeroDivisionError\u001b[0m: division by zero"
     ]
    }
   ],
   "source": [
    "def division(a,b):\n",
    "    return a/b\n",
    "\n",
    "result=division(10,0)\n",
    "print(\"division number is:-\",result)"
   ]
  },
  {
   "cell_type": "code",
   "execution_count": 2,
   "id": "4967fa0f-4a0d-4560-ae0f-c7d7099412a4",
   "metadata": {},
   "outputs": [
    {
     "name": "stdout",
     "output_type": "stream",
     "text": [
      "Zero division error division by zero\n",
      "division answer is:- None\n"
     ]
    }
   ],
   "source": [
    "def division1(a,b):\n",
    "    try:\n",
    "        return a/b\n",
    "    except ZeroDivisionError as e:\n",
    "        print(\"Zero division error\", e)\n",
    "result=division1(10,0)\n",
    "print(\"division answer is:-\",result)"
   ]
  },
  {
   "cell_type": "markdown",
   "id": "7bcc84bb-ef0d-4c61-aace-42ad00aba2b7",
   "metadata": {},
   "source": [
    "#### Q3. Which Python statements are used to catch and handle exceptions? Explain with an example."
   ]
  },
  {
   "cell_type": "markdown",
   "id": "27514ade-14a8-4b3c-a3a1-8b7f5b21848e",
   "metadata": {},
   "source": [
    "try-except statement is used to catch and handle the exceptions. it allow you to handle errors and preventing the program from terminating\n",
    "\n",
    "try:\n",
    "\n",
    "    code that may raise an exception\n",
    "    \n",
    "except ExceptionError as e:\n",
    "\n",
    "    code that handle the specific exception\n",
    "    \n",
    "else:\n",
    "\n",
    "    code runs if no exception occurs\n",
    "    \n",
    "finally:\n",
    "\n",
    "    code that always runs, whether an axception occurs or not"
   ]
  },
  {
   "cell_type": "code",
   "execution_count": null,
   "id": "135d9264-2036-49dd-9327-a1333b606374",
   "metadata": {},
   "outputs": [],
   "source": [
    "Q4. Explain with an example: \n",
    "\n",
    "a. try and else\n",
    "\n",
    "b. finally\n",
    "\n",
    "c. raise\n",
    "\n"
   ]
  },
  {
   "cell_type": "markdown",
   "id": "f23cd90d-c539-41ff-9929-0d1e5d6e0550",
   "metadata": {},
   "source": [
    "#### try and else\n",
    "Ans:- try and else statmement is used when try block run succesfully then else block excecute otherwise except block run, try block contain code that might raise an exception and else block is optional and get executed only if no exception occurs in the try block "
   ]
  },
  {
   "cell_type": "code",
   "execution_count": 3,
   "id": "89dbd233-7a6d-45ee-9d80-101fb656bd94",
   "metadata": {},
   "outputs": [
    {
     "name": "stdout",
     "output_type": "stream",
     "text": [
      "5.0\n",
      "try block run succesfully\n"
     ]
    }
   ],
   "source": [
    "try:\n",
    "    x=10/2\n",
    "    print(x)\n",
    "except Exception as e:\n",
    "    print(e)\n",
    "else:\n",
    "    print(\"try block run succesfully\")\n",
    "    "
   ]
  },
  {
   "cell_type": "markdown",
   "id": "23bbe23d-9c9c-43ac-8660-fd5f06acb83c",
   "metadata": {},
   "source": [
    "#### finally\n",
    "Ans:-finally block is used in conjuction with the try block and is executed regardless of whether an exception occurs or not. the main aim of finally block is to cleanup actions that should always be performed, like closing files or releasing resources "
   ]
  },
  {
   "cell_type": "code",
   "execution_count": 4,
   "id": "b4d26ad1-8a7f-461d-93e6-473339b2c39f",
   "metadata": {},
   "outputs": [
    {
     "name": "stdout",
     "output_type": "stream",
     "text": [
      "file is not present\n",
      "clean done\n"
     ]
    },
    {
     "ename": "NameError",
     "evalue": "name 'file' is not defined",
     "output_type": "error",
     "traceback": [
      "\u001b[0;31m---------------------------------------------------------------------------\u001b[0m",
      "\u001b[0;31mNameError\u001b[0m                                 Traceback (most recent call last)",
      "Cell \u001b[0;32mIn[4], line 9\u001b[0m\n\u001b[1;32m      7\u001b[0m \u001b[38;5;28;01mfinally\u001b[39;00m:\n\u001b[1;32m      8\u001b[0m     \u001b[38;5;28mprint\u001b[39m(\u001b[38;5;124m\"\u001b[39m\u001b[38;5;124mclean done\u001b[39m\u001b[38;5;124m\"\u001b[39m)\n\u001b[0;32m----> 9\u001b[0m     \u001b[43mfile\u001b[49m\u001b[38;5;241m.\u001b[39mclose()\n",
      "\u001b[0;31mNameError\u001b[0m: name 'file' is not defined"
     ]
    }
   ],
   "source": [
    "try:\n",
    "    file=open(\"exam.txt\",\"r\")\n",
    "    content=file.read();\n",
    "    print(content)\n",
    "except FileNotFoundError as e:\n",
    "    print(\"file is not present\")\n",
    "finally:\n",
    "    print(\"clean done\")\n",
    "    file.close()\n",
    "    "
   ]
  },
  {
   "cell_type": "markdown",
   "id": "6acc132e-930f-4886-8ddb-aa8749109461",
   "metadata": {},
   "source": [
    "#### raise\n",
    "ans:- raise keyword is used to explicitly raise an exception in python. you can use it as a signal that something unexcepted happen during the exceution of your code"
   ]
  },
  {
   "cell_type": "code",
   "execution_count": 3,
   "id": "bbb4c835-34d0-4907-8464-8d5cf32cc2bc",
   "metadata": {},
   "outputs": [
    {
     "name": "stdin",
     "output_type": "stream",
     "text": [
      "Enter your age -12\n"
     ]
    },
    {
     "name": "stdout",
     "output_type": "stream",
     "text": [
      "Age cannot be negative.\n"
     ]
    }
   ],
   "source": [
    "def age_checker(age):\n",
    "    if age<0:\n",
    "        raise ValueError(\"Age cannot be negative.\")\n",
    "    elif age<18:\n",
    "        print(\"you are a minor.\")\n",
    "    else:\n",
    "        print(\"you are an adult\")\n",
    "\n",
    "try:\n",
    "    age=int(input(\"Enter your age\"))\n",
    "    age_checker(age)\n",
    "except ValueError as e:\n",
    "    print(e)"
   ]
  },
  {
   "cell_type": "markdown",
   "id": "b0bd873f-a454-4de4-87ea-9872bfe22ef8",
   "metadata": {},
   "source": [
    "class ValueError(Exception):\n",
    "\n",
    "     def __init__(self,msg):\n",
    "     \n",
    "         self.msg=msg\n",
    "you can add this to in above code but the code works properly regardless it is present or not"
   ]
  },
  {
   "cell_type": "markdown",
   "id": "c2a50b75-f9d4-48ca-8801-10cef8ef5778",
   "metadata": {},
   "source": [
    "#### Q5. What are Custom Exceptions in python? Why do we need Custom Exceptions? Explain with an example.\n",
    "\n",
    "Ans:- Custom exception also know as user-define exception that are created by the programmer to represent the specific error conditions in thier code, you can create custom exception with the help of inherit the \"Exception\" class\n",
    "\n",
    "Custom exception are used to customize the exception according to the user needs, so can create your own exception class and throw, we need custom exception when we want to create different exception from inbuilt exception "
   ]
  },
  {
   "cell_type": "code",
   "execution_count": 8,
   "id": "dd96506f-330d-470e-94f2-b4c858faefa1",
   "metadata": {},
   "outputs": [],
   "source": [
    "class valid_sal(Exception):\n",
    "    def __init__(self,msg):\n",
    "        self.msg=msg"
   ]
  },
  {
   "cell_type": "markdown",
   "id": "bad745bf-859f-466f-9e07-67dac2932853",
   "metadata": {},
   "source": [
    "#### Q6. Create a custom exception class. Use this class to handle an exception."
   ]
  },
  {
   "cell_type": "code",
   "execution_count": 14,
   "id": "b78248b6-8f7e-4011-9e75-74b5f02cab21",
   "metadata": {},
   "outputs": [
    {
     "name": "stdin",
     "output_type": "stream",
     "text": [
      "Enter you salary -12\n"
     ]
    },
    {
     "name": "stdout",
     "output_type": "stream",
     "text": [
      "Salary should not be less then zero\n"
     ]
    }
   ],
   "source": [
    "def tax(salary):\n",
    "    if salary<0:\n",
    "        raise valid_sal(\"Salary should not be less then zero\")\n",
    "    elif salary>0:\n",
    "        print(\"you should give tax\")\n",
    "\n",
    "try:\n",
    "    sal=int(input(\"Enter you salary\"))\n",
    "    tax(sal)\n",
    "except valid_sal as v:\n",
    "    print(v)"
   ]
  },
  {
   "cell_type": "code",
   "execution_count": null,
   "id": "3e3aab38-dad2-4b1c-bb56-28a4efa57ac3",
   "metadata": {},
   "outputs": [],
   "source": []
  }
 ],
 "metadata": {
  "kernelspec": {
   "display_name": "Python 3 (ipykernel)",
   "language": "python",
   "name": "python3"
  },
  "language_info": {
   "codemirror_mode": {
    "name": "ipython",
    "version": 3
   },
   "file_extension": ".py",
   "mimetype": "text/x-python",
   "name": "python",
   "nbconvert_exporter": "python",
   "pygments_lexer": "ipython3",
   "version": "3.10.8"
  }
 },
 "nbformat": 4,
 "nbformat_minor": 5
}
