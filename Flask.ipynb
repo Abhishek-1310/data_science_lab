{
 "cells": [
  {
   "cell_type": "markdown",
   "id": "ece52f8f-ef72-482c-b569-c7aa8f0ce105",
   "metadata": {},
   "source": [
    "#### Q1. What is Flask Framework? What are the advantages of Flask Framework?\n"
   ]
  },
  {
   "cell_type": "markdown",
   "id": "affaa5a6-8bf3-4519-8da4-b0608a108a90",
   "metadata": {},
   "source": [
    "Flask is a micro web framework for Python, designed to make it easy to build web applications and APIs. it give decisions and features up to the developer, allowing for greater flexibility and customization. Flask is known for its simplicity and minimalistic design, making it a popular choice for small to medium-sized projects and for developers who prefer a lightweight framework.\n",
    "\n",
    "advantage:\n",
    "Lightweight and Minimalistic: Flask is designed to be simple and minimal, allowing developers to choose the components they need. This makes it easy to start with a basic setup and gradually add features as required.\n",
    "\n",
    "Flexibility: Flask doesn't impose a strict structure or architecture on your project, giving you the freedom to design your application the way you want. This flexibility is especially useful when dealing with unique or unconventional requirements.\n",
    "\n",
    "Extensible: Flask is designed with extensibility in mind. It provides a range of extensions and libraries that can be easily integrated to add functionalities like database support, authentication, form handling, and more.\n",
    "\n",
    "Easy to Learn: Flask's simple and intuitive API makes it easy for both beginners and experienced developers to learn and work with. It has a shallow learning curve, allowing developers to quickly get started with building web applications."
   ]
  },
  {
   "cell_type": "markdown",
   "id": "9d6dc6ee-3d8d-4767-9a52-3b207e9bc150",
   "metadata": {},
   "source": [
    "#### Q2. Create a simple Flask application to display ‘Hello World!!’. Attach the screenshot of the output in Jupyter Notebook.\n"
   ]
  },
  {
   "cell_type": "raw",
   "id": "e77a4476-33da-4e0c-a652-d0efa46f7b3c",
   "metadata": {},
   "source": [
    "from flask import Flask\n",
    "\n",
    "\n",
    "app = Flask(__name__)\n",
    "\n",
    "@app.route(\"/\")\n",
    "def hello_world():\n",
    "    return \"<h1>Hello, World!</h1>\"\n",
    "\n",
    "\n",
    "if __name__==\"__main__\":\n",
    "    app.run(host=\"0.0.0.0\")\n"
   ]
  },
  {
   "cell_type": "markdown",
   "id": "b4718e01-b5b1-466e-9542-26ca7326172d",
   "metadata": {},
   "source": [
    "![](as1.png)"
   ]
  },
  {
   "cell_type": "markdown",
   "id": "abfad0e3-7ba8-470b-b898-4dac773b6bab",
   "metadata": {},
   "source": [
    "#### Q3. What is App routing in Flask? Why do we use app routes?"
   ]
  },
  {
   "cell_type": "markdown",
   "id": "a2163fec-0b8f-463d-af76-746ff7b5e904",
   "metadata": {},
   "source": [
    "In Flask, app routing refers to the process of defining URL routes for different parts of your web application. A route is a URL pattern that corresponds to a specific function or view in your Flask application. When a user navigates to a specific URL in their web browser, Flask's routing system matches that URL to the appropriate route, and the associated function is executed to generate and return the appropriate response\n",
    "why do we use app routes\n",
    "URL Mapping: App routes allow you to map URLs to specific functions or views in your application. This makes it easy to organize your application's logic and direct users to the correct content based on the URL they visit.\n",
    "\n",
    "User friendly: App routes contribute to a better user experience by providing clean and user-friendly URLs. Instead of exposing complex or dynamic URLs with query parameters, you can design routes that are easy to read and understand.\n",
    "\n",
    "Dynamic Content: App routes are often used to create dynamic content by accepting variables within the URL. For example, a route like /user/<username> can capture the username from the URL and use it to display personalized user profiles.\n",
    "\n",
    "RESTful APIs: When building RESTful APIs, app routes define different endpoints for various actions or resources. Each route corresponds to a specific API function, making it easy for clients to interact with your application through HTTP requests.\n",
    "\n",
    "Custom Error Pages: You can define custom error handling routes to display appropriate error pages when users encounter issues, such as a 404 Not Found error.\n",
    "    \n"
   ]
  },
  {
   "cell_type": "raw",
   "id": "76896b21-e345-43cd-ad0a-7a4cfc71454f",
   "metadata": {},
   "source": [
    "from flask import Flask\n",
    "\n",
    "app = Flask(__name__)\n",
    "\n",
    "@app.route('/')\n",
    "def home():\n",
    "    return \"Welcome to the homepage!\"\n",
    "\n",
    "@app.route('/about')\n",
    "def about():\n",
    "    return \"This is the about page.\"\n",
    "\n",
    "@app.route('/user/<username>')\n",
    "def user_profile(username):\n",
    "    return f\"Hello, {username}!\"\n",
    "\n",
    "if __name__ == '__main__':\n",
    "    app.run()"
   ]
  },
  {
   "cell_type": "markdown",
   "id": "2c69892e-ff61-429e-a392-70c06a0b5409",
   "metadata": {},
   "source": [
    "#### Q4. Create a “/welcome” route to display the welcome message “Welcome to ABC Corporation” and a “/” route to show the following details: \n",
    "\n",
    "Company Name: ABC Corporation\n",
    "\n",
    "Location: India \n",
    "\n",
    "Contact Detail: 999-999-9999 \n",
    "\n",
    "Attach the screenshot of the output in Jupyter Notebook."
   ]
  },
  {
   "cell_type": "code",
   "execution_count": null,
   "id": "3442b06d-9bd1-42b0-bb90-496e6578e3f1",
   "metadata": {},
   "outputs": [],
   "source": [
    "from flask import Flask\n",
    "\n",
    "\n",
    "app = Flask(__name__)\n",
    "\n",
    "@app.route(\"/\")\n",
    "def abc():\n",
    "    return \"<h1>Company Name:ABC Corporation</h1><br><h1>Location: India</h1><br><h1>Contact Detail: 999-999-9999</h1>\"\n",
    "@app.route(\"/welcome\")\n",
    "def hello_world():\n",
    "    return \"Welcome to ABC Corporation\"\n",
    "\n",
    "\n",
    "if __name__==\"__main__\":\n",
    "    app.run(host=\"0.0.0.0\")"
   ]
  },
  {
   "cell_type": "markdown",
   "id": "a89e8be3-4824-4e49-8e33-7e54aac09d81",
   "metadata": {},
   "source": [
    "![](as2.png)"
   ]
  },
  {
   "cell_type": "markdown",
   "id": "fbaa4d90-ba63-4814-8514-8db2f85a1889",
   "metadata": {},
   "source": [
    "![](as3.png)"
   ]
  },
  {
   "cell_type": "markdown",
   "id": "ea660459-f6ee-47e2-83be-b2ad0f3d125b",
   "metadata": {},
   "source": [
    "#### Q5. What function is used in Flask for URL Building? Write a Python code to demonstrate the working of the url_for() function."
   ]
  },
  {
   "cell_type": "raw",
   "id": "f406ae29-7c0e-4b74-a66c-a75238299fee",
   "metadata": {},
   "source": [
    "In Flask, the url_for() function is used for URL building. It generates a URL for a given view function and its arguments. This is particularly useful because it abstracts the URL generation process and ensures that your URLs remain consistent even if you change the route definitions in your application.\n",
    "\n",
    "from flask import Flask, url_for\n",
    "\n",
    "app = Flask(__name__)\n",
    "\n",
    "@app.route('/')\n",
    "def home():\n",
    "    return \"Welcome to the homepage!\"\n",
    "\n",
    "@app.route('/user/<username>')\n",
    "def user_profile(username):\n",
    "    return f\"Hello, {username}!\"\n",
    "\n",
    "if __name__ == '__main__':\n",
    "    with app.test_request_context():\n",
    "        # Generating URLs using url_for()\n",
    "        homepage_url = url_for('home')\n",
    "        user_url = url_for('user_profile', username='john')\n",
    "\n",
    "        print(\"Homepage URL:\", homepage_url)\n",
    "        print(\"User Profile URL:\", user_url)\n"
   ]
  }
 ],
 "metadata": {
  "kernelspec": {
   "display_name": "Python 3 (ipykernel)",
   "language": "python",
   "name": "python3"
  },
  "language_info": {
   "codemirror_mode": {
    "name": "ipython",
    "version": 3
   },
   "file_extension": ".py",
   "mimetype": "text/x-python",
   "name": "python",
   "nbconvert_exporter": "python",
   "pygments_lexer": "ipython3",
   "version": "3.10.8"
  }
 },
 "nbformat": 4,
 "nbformat_minor": 5
}
