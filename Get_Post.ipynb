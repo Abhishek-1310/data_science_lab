{
 "cells": [
  {
   "cell_type": "code",
   "execution_count": null,
   "id": "c0b343a9-43f1-4ad3-a7a9-eeb3aa19c9d6",
   "metadata": {},
   "outputs": [],
   "source": [
    "Q1. Explain GET and POST methods.\n"
   ]
  },
  {
   "cell_type": "markdown",
   "id": "3193f023-3319-40f4-b65c-40a04dd70e3b",
   "metadata": {},
   "source": [
    "##### GET\n",
    "The GET method is one of the HTTP methods used to request data from a web server. When you enter a URL into your web browser's address bar and hit Enter, you are actually sending a GET request to the server. The GET method is designed to retrieve information from the server. It appends the data as query parameters in the URL itself. These parameters are visible in the URL, which makes it less secure for sending sensitive information like passwords.\n",
    "\n",
    "##### POST\n",
    "The POST method is another HTTP method used to send data to a web server to be processed. Unlike GET, where data is appended to the URL, POST sends data in the body of the HTTP request. This makes it more suitable for sending larger amounts of data and sensitive information, such as login credentials, as the data is not directly visible in the URL."
   ]
  },
  {
   "cell_type": "code",
   "execution_count": null,
   "id": "091a7e68-f084-4809-9e32-d09e1ec8c41d",
   "metadata": {},
   "outputs": [],
   "source": [
    "Q2. Why is request used in Flask?\n"
   ]
  },
  {
   "cell_type": "markdown",
   "id": "6e7d9317-5b64-492e-9398-736c967e798d",
   "metadata": {},
   "source": [
    "In Flask, a popular web framework for Python, a \"request\" object is used to handle incoming HTTP requests made to your web application. The \"request\" object provides a way to access various aspects of the incoming request, such as form data, query parameters, headers, and more. It's an essential component for building dynamic and interactive web applications that respond to user input.\n",
    "\n",
    "Accessing Data: When a client sends a request to your Flask application, it often includes data in the form of parameters, form data, JSON payloads, and more. The \"request\" object allows you to access and extract this data, making it available for processing within your application.\n",
    "\n",
    "Handling Forms: Web applications often include forms that users fill out and submit. The data submitted through these forms is sent to the server as part of the HTTP request. The \"request\" object enables you to retrieve the form data, validate it, and take appropriate actions based on it.\n",
    "\n",
    "Query Parameters: When users access URLs with query parameters , you can use the \"request\" object to access and process these parameters. This is particularly useful for building dynamic pages that display different content based on user inputs.\n",
    "\n",
    "Headers and Cookies: HTTP requests include headers that provide additional information about the request, such as the user agent, content type, and more. Additionally, cookies are often sent along with requests for maintaining user sessions. The \"request\" object allows you to access and manipulate these headers and cookies.\n",
    "\n",
    "Contextual Information: The \"request\" object also carries contextual information about the current request, such as the HTTP method (GET, POST, etc.), the URL path, and more. This information is crucial for routing and handling requests appropriately."
   ]
  },
  {
   "cell_type": "code",
   "execution_count": null,
   "id": "57f1cf17-4964-45b9-8646-c7a574bdb840",
   "metadata": {},
   "outputs": [],
   "source": [
    "Q3. Why is redirect() used in Flask?\n"
   ]
  },
  {
   "cell_type": "markdown",
   "id": "730c4fb2-0f8a-41b8-8eb3-0f7790a15d35",
   "metadata": {},
   "source": [
    "In Flask, the redirect() function is used to perform a URL redirection, which means it sends a response to the client's browser with a new URL, instructing the browser to navigate to that URL. URL redirection is a common technique used in web applications for various purposes, such as directing users to different pages, handling URL changes, and managing user interactions.\n",
    "\n",
    "URL Routing: When a user accesses a specific URL, you might want to route them to a different URL based on certain conditions. The redirect() function allows you to perform this redirection dynamically, enabling you to guide users to the appropriate page based on their actions or inputs.\n",
    "\n",
    "redirect diff page: After users submit a form on a web page, it's common to redirect them to a different page to display the results or provide feedback.\n",
    "\n",
    "Authentication and Authorization: When implementing authentication and authorization mechanisms, you might need to redirect users to a login page or to a specific page after they successfully log in or complete a certain action. redirect() simplifies this process by redirecting users to the appropriate URLs.\n",
    "\n",
    "Dynamic Routing: In some cases, you might generate URLs dynamically based on user input or data from the application. The redirect() function allows you to create and redirect to these dynamic URLs.\n",
    "\n",
    "External Links: You can also use redirect() to redirect users to external websites by providing the complete external URL as the target."
   ]
  },
  {
   "cell_type": "code",
   "execution_count": null,
   "id": "ff96baa8-7d39-4fff-92ff-3054471ca5dc",
   "metadata": {},
   "outputs": [],
   "source": [
    "Q4. What are templates in Flask? Why is the render_template() function used?\n"
   ]
  },
  {
   "cell_type": "markdown",
   "id": "5064be0b-3e4d-49df-b186-5900876507ee",
   "metadata": {},
   "source": [
    "In Flask, templates are used to separate the presentation layer (HTML) from the application logic (Python code). Templates allow you to dynamically generate HTML content by embedding placeholders or dynamic elements that are populated with data from your application. This separation of concerns enhances code organization, readability, and maintainability.\n",
    "\n",
    "The render_template() function in Flask is used to render these templates and generate HTML content. It takes the name of the template file as an argument and can also accept additional data in the form of keyword arguments. This data is then made available to the template for rendering dynamic content."
   ]
  },
  {
   "cell_type": "code",
   "execution_count": null,
   "id": "ca0ffd0b-c198-408e-904a-ca005252e4ba",
   "metadata": {},
   "outputs": [],
   "source": [
    "Q5. Create a simple API. Use Postman to test it. Attach the screenshot of the output in the Jupyter Notebook."
   ]
  },
  {
   "cell_type": "code",
   "execution_count": null,
   "id": "b25d3310-18fa-4d74-b0ad-ce8e4c1ca862",
   "metadata": {},
   "outputs": [],
   "source": [
    "from flask import Flask, render_template, request, jsonify\n",
    "\n",
    "\n",
    "app = Flask(__name__)\n",
    "\n",
    "@app.route(\"/\",methods=['GET','POST'])\n",
    "def home_page():\n",
    "    return render_template('index.html')\n",
    "\n",
    "\n",
    "@app.route(\"/postman_data\", methods=['POST'])\n",
    "def math_ops1():\n",
    "    if(request.method=='POST'):\n",
    "        ops=request.json['operation']\n",
    "        num1=int(request.json['num1'])\n",
    "        num2=int(request.json['num2'])\n",
    "        if(ops=='add'):\n",
    "            r=num1+num2\n",
    "            res='The sum of  '+str(num1)+' and '+str(num2)+' is:-'+str(r)\n",
    "            \n",
    "        if(ops=='subtract'):\n",
    "            r=num1-num2\n",
    "            res='The subtract of  '+str(num1)+' and '+str(num2)+' is:-'+str(r)\n",
    "            \n",
    "        if(ops=='multiply'):\n",
    "            r=num1*num2\n",
    "            res='The multiply of  '+str(num1)+' and '+str(num2)+' is:-'+str(r)\n",
    "            \n",
    "        if(ops=='divide'):\n",
    "            r=num1/num2\n",
    "            res='The divide of  '+str(num1)+' and '+str(num2)+' is:-'+str(r)\n",
    "            \n",
    "        if(ops=='log'):\n",
    "            r=num1%num2\n",
    "            res='The reminder of  '+str(num1)+' and '+str(num2)+' is:-'+str(r)\n",
    "        \n",
    "        return jsonify(res)\n",
    "\n",
    "if __name__==\"__main__\":\n",
    "    app.run(host=\"0.0.0.0\")"
   ]
  },
  {
   "cell_type": "code",
   "execution_count": 2,
   "id": "86ae821f-82af-4568-87b3-5326e522d293",
   "metadata": {},
   "outputs": [
    {
     "name": "stdout",
     "output_type": "stream",
     "text": [
      "Requirement already satisfied: ipython in /opt/conda/lib/python3.10/site-packages (8.7.0)\n",
      "Requirement already satisfied: pygments>=2.4.0 in /opt/conda/lib/python3.10/site-packages (from ipython) (2.13.0)\n",
      "Requirement already satisfied: pexpect>4.3 in /opt/conda/lib/python3.10/site-packages (from ipython) (4.8.0)\n",
      "Requirement already satisfied: pickleshare in /opt/conda/lib/python3.10/site-packages (from ipython) (0.7.5)\n",
      "Requirement already satisfied: jedi>=0.16 in /opt/conda/lib/python3.10/site-packages (from ipython) (0.18.2)\n",
      "Requirement already satisfied: matplotlib-inline in /opt/conda/lib/python3.10/site-packages (from ipython) (0.1.6)\n",
      "Requirement already satisfied: prompt-toolkit<3.1.0,>=3.0.11 in /opt/conda/lib/python3.10/site-packages (from ipython) (3.0.36)\n",
      "Requirement already satisfied: decorator in /opt/conda/lib/python3.10/site-packages (from ipython) (5.1.1)\n",
      "Requirement already satisfied: traitlets>=5 in /opt/conda/lib/python3.10/site-packages (from ipython) (5.7.1)\n",
      "Requirement already satisfied: backcall in /opt/conda/lib/python3.10/site-packages (from ipython) (0.2.0)\n",
      "Requirement already satisfied: stack-data in /opt/conda/lib/python3.10/site-packages (from ipython) (0.6.2)\n",
      "Requirement already satisfied: parso<0.9.0,>=0.8.0 in /opt/conda/lib/python3.10/site-packages (from jedi>=0.16->ipython) (0.8.3)\n",
      "Requirement already satisfied: ptyprocess>=0.5 in /opt/conda/lib/python3.10/site-packages (from pexpect>4.3->ipython) (0.7.0)\n",
      "Requirement already satisfied: wcwidth in /opt/conda/lib/python3.10/site-packages (from prompt-toolkit<3.1.0,>=3.0.11->ipython) (0.2.5)\n",
      "Requirement already satisfied: asttokens>=2.1.0 in /opt/conda/lib/python3.10/site-packages (from stack-data->ipython) (2.2.1)\n",
      "Requirement already satisfied: pure-eval in /opt/conda/lib/python3.10/site-packages (from stack-data->ipython) (0.2.2)\n",
      "Requirement already satisfied: executing>=1.2.0 in /opt/conda/lib/python3.10/site-packages (from stack-data->ipython) (1.2.0)\n",
      "Requirement already satisfied: six in /opt/conda/lib/python3.10/site-packages (from asttokens>=2.1.0->stack-data->ipython) (1.16.0)\n",
      "Note: you may need to restart the kernel to use updated packages.\n"
     ]
    }
   ],
   "source": [
    "pip install ipython"
   ]
  },
  {
   "cell_type": "code",
   "execution_count": 9,
   "id": "809bce13-e4ef-4885-b240-9c0b13a7dbcf",
   "metadata": {},
   "outputs": [
    {
     "name": "stdout",
     "output_type": "stream",
     "text": [
      "/bin/bash: -c: line 1: syntax error near unexpected token `1q3.png'\n",
      "/bin/bash: -c: line 1: `[](1q3.png)'\n"
     ]
    }
   ],
   "source": [
    "![](1q3.png)"
   ]
  },
  {
   "cell_type": "code",
   "execution_count": 10,
   "id": "d1874d8d-4d23-42e5-968f-002efbc2a552",
   "metadata": {},
   "outputs": [],
   "source": [
    "from IPython.display import Image"
   ]
  },
  {
   "cell_type": "code",
   "execution_count": 11,
   "id": "e7c9073c-9506-4b49-aba5-318ceca62507",
   "metadata": {},
   "outputs": [
    {
     "data": {
      "text/html": [
       "<img src=\"1q3.png\" width=\"300\" height=\"300\"/>"
      ],
      "text/plain": [
       "<IPython.core.display.Image object>"
      ]
     },
     "execution_count": 11,
     "metadata": {},
     "output_type": "execute_result"
    }
   ],
   "source": [
    "Image(url=\"1q3.png\", width=300, height=300)"
   ]
  },
  {
   "cell_type": "code",
   "execution_count": null,
   "id": "1de8b4ae-089a-4f80-ae4a-b73e7e8def39",
   "metadata": {},
   "outputs": [],
   "source": []
  }
 ],
 "metadata": {
  "kernelspec": {
   "display_name": "Python 3 (ipykernel)",
   "language": "python",
   "name": "python3"
  },
  "language_info": {
   "codemirror_mode": {
    "name": "ipython",
    "version": 3
   },
   "file_extension": ".py",
   "mimetype": "text/x-python",
   "name": "python",
   "nbconvert_exporter": "python",
   "pygments_lexer": "ipython3",
   "version": "3.10.8"
  }
 },
 "nbformat": 4,
 "nbformat_minor": 5
}
