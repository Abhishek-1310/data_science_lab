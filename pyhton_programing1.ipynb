{
 "cells": [
  {
   "cell_type": "markdown",
   "id": "bd05e096-afa3-4792-88eb-36b5ae4571c9",
   "metadata": {},
   "source": [
    "#### Q1. Create a function which will take a list as an argument and return the product of all the numbers after creating a flat list. Use the below-given list as an argument for your function. list1 = [1,2,3,4, [44,55,66, True], False, (34,56,78,89,34), {1,2,3,3,2,1}, {1:34, \"key2\": [55, 67, 78, 89], 4: (45, 22, 61, 34)}, [56, 'data science'], 'Machine Learning'] Note: you must extract numeric keys and values of the dictionary also.\n"
   ]
  },
  {
   "cell_type": "code",
   "execution_count": 36,
   "id": "de0f4679-531f-40f4-bda3-e4d44f14df57",
   "metadata": {},
   "outputs": [],
   "source": [
    "res_list=[]\n",
    "def mul_int(list1):\n",
    "    for i in list1:\n",
    "        if type(i)==int:\n",
    "            res_list.append(i)\n",
    "        if type(i)==list:\n",
    "            for j in i:\n",
    "                if type(j)==int:\n",
    "                    res_list.append(j)\n",
    "        if type(i)==str:\n",
    "            pass\n",
    "        if type(i)==tuple:\n",
    "            for j in i:\n",
    "                if type(j)==int:\n",
    "                    res_list.append(j)\n",
    "        if type(i)==dict:\n",
    "            for j in i:\n",
    "                if type(i[j])==int:\n",
    "                    res_list.append(i[j])\n",
    "                if type(i[j])==str:\n",
    "                    pass\n",
    "                if type(i[j])==tuple or type(i[j])==list:\n",
    "                    for z in i[j]:\n",
    "                        if type(z)==int:\n",
    "                            res_list.append(z)\n",
    "        else:\n",
    "            pass\n",
    "    return res_list\n",
    "        "
   ]
  },
  {
   "cell_type": "code",
   "execution_count": 37,
   "id": "4a57d656-ef71-4693-9dcf-8b097d13e460",
   "metadata": {},
   "outputs": [
    {
     "name": "stdout",
     "output_type": "stream",
     "text": [
      "172279659957795228284743385088000\n"
     ]
    }
   ],
   "source": [
    "list1 = [1,2,3,4, [44,55,66, True], False, (34,56,78,89,34), {1:34, \"key2\": [55, 67, 78, 89], 4: (45, 22, 61, 34)}, [56, 'data science'], 'Machine Learning']\n",
    "fun=mul_int(list1)\n",
    "result=1\n",
    "for i in fun:\n",
    "    result*=i\n",
    "print(result)\n",
    "    "
   ]
  },
  {
   "cell_type": "markdown",
   "id": "78b215c7-6337-4e35-920a-7d7687447051",
   "metadata": {},
   "source": [
    "#### Q2. Write a python program for encrypting a message sent to you by your friend. The logic of encryption should be such that, for a the output should be z. For b, the output should be y. For c, the output should be x respectively. Also, the whitespace should be replaced with a dollar sign. Keep the punctuation marks unchanged. Input Sentence: I want to become a Data Scientist. Encrypt the above input sentence using the program you just created. Note: Convert the given input sentence into lowercase before encrypting. The final output should be lowercase."
   ]
  },
  {
   "cell_type": "code",
   "execution_count": 5,
   "id": "039294bf-8c37-47ec-ad7d-639e43249cb7",
   "metadata": {},
   "outputs": [
    {
     "name": "stdout",
     "output_type": "stream",
     "text": [
      "i$wznt$to$yexome$z$dztz$sxientist\n"
     ]
    }
   ],
   "source": [
    "input=\"I want to become a Data Scientist\"\n",
    "inp=input.lower()\n",
    "str=\"\"\n",
    "for i in inp:\n",
    "    if i==\"a\":\n",
    "        str+=\"z\"\n",
    "    elif i==\"b\":\n",
    "        str+=\"y\"\n",
    "    elif i==\"c\":\n",
    "        str+=\"x\"\n",
    "    elif i==\" \":\n",
    "        str+=\"$\"\n",
    "    else:\n",
    "        str+=i\n",
    "print(str)"
   ]
  }
 ],
 "metadata": {
  "kernelspec": {
   "display_name": "Python 3 (ipykernel)",
   "language": "python",
   "name": "python3"
  },
  "language_info": {
   "codemirror_mode": {
    "name": "ipython",
    "version": 3
   },
   "file_extension": ".py",
   "mimetype": "text/x-python",
   "name": "python",
   "nbconvert_exporter": "python",
   "pygments_lexer": "ipython3",
   "version": "3.10.8"
  }
 },
 "nbformat": 4,
 "nbformat_minor": 5
}
