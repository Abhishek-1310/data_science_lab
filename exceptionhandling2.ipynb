{
 "cells": [
  {
   "cell_type": "markdown",
   "id": "92c09d12-9af8-40ce-8a9f-daa49a5cfa45",
   "metadata": {},
   "source": [
    "#### Q1. Explain why we have to use the Exception class while creating a Custom Exception.\n",
    "Note: Here Exception class refers to the base class for all the exceptions."
   ]
  },
  {
   "cell_type": "markdown",
   "id": "99d8efc4-14d7-4330-b48a-269e78e0f5ca",
   "metadata": {},
   "source": [
    "Ans:- using the excepton class when creating a custom exception in python allows you to define your own error type, specific to your application's needs by subclassing the built-in exception class \n",
    "to create a custom exception, you can define a new class that inherits from the \"Exception\" class and you can also add custom attributes or methods to the exceptionclass to include additional detials about error, making it more informative for debugging"
   ]
  },
  {
   "cell_type": "markdown",
   "id": "672c6744-ae10-4a6a-a48b-73f97ee1a819",
   "metadata": {},
   "source": [
    "#### Q2. Write a python program to print Python Exception Hierarchy.\n",
    "in python program that prints the Python exception hierarchy:\n",
    "This program first creates an empty list called exceptions. It then loops through all the attributes in the __builtins__ module\n",
    "(which contains the built-in exceptions in Python) and checks if each attribute is a class that is a subclass of the Exception class.\n",
    "If it is, the name of the class is added to the exceptions list. Once all the exception classes have been added to the list, it is sorted in alphabetical order\n",
    ". Finally, the program loops through the sorted list and prints each exception name. To use the program, simply call the print_exception_hierarchy() function."
   ]
  },
  {
   "cell_type": "code",
   "execution_count": 1,
   "id": "f6a0fbc6-00dc-4c01-ab05-7917165bc125",
   "metadata": {},
   "outputs": [],
   "source": [
    "def print_exception_hierarchy():\n",
    "    exceptions = []\n",
    "    for exception in dir(__builtins__):\n",
    "        if isinstance(getattr(__builtins__, exception), type) and issubclass(getattr(__builtins__, exception), Exception):\n",
    "            exceptions.append(exception)\n",
    "            exceptions.sort()\n",
    "    for exception in exceptions:\n",
    "                print(exception)"
   ]
  },
  {
   "cell_type": "code",
   "execution_count": 2,
   "id": "df18e7f3-32ab-4358-99d8-3a3e73e57757",
   "metadata": {},
   "outputs": [
    {
     "name": "stdout",
     "output_type": "stream",
     "text": [
      "ArithmeticError\n",
      "AssertionError\n",
      "AttributeError\n",
      "BlockingIOError\n",
      "BrokenPipeError\n",
      "BufferError\n",
      "BytesWarning\n",
      "ChildProcessError\n",
      "ConnectionAbortedError\n",
      "ConnectionError\n",
      "ConnectionRefusedError\n",
      "ConnectionResetError\n",
      "DeprecationWarning\n",
      "EOFError\n",
      "EncodingWarning\n",
      "EnvironmentError\n",
      "Exception\n",
      "FileExistsError\n",
      "FileNotFoundError\n",
      "FloatingPointError\n",
      "FutureWarning\n",
      "IOError\n",
      "ImportError\n",
      "ImportWarning\n",
      "IndentationError\n",
      "IndexError\n",
      "InterruptedError\n",
      "IsADirectoryError\n",
      "KeyError\n",
      "LookupError\n",
      "MemoryError\n",
      "ModuleNotFoundError\n",
      "NameError\n",
      "NotADirectoryError\n",
      "NotImplementedError\n",
      "OSError\n",
      "OverflowError\n",
      "PendingDeprecationWarning\n",
      "PermissionError\n",
      "ProcessLookupError\n",
      "RecursionError\n",
      "ReferenceError\n",
      "ResourceWarning\n",
      "RuntimeError\n",
      "RuntimeWarning\n",
      "StopAsyncIteration\n",
      "StopIteration\n",
      "SyntaxError\n",
      "SyntaxWarning\n",
      "SystemError\n",
      "TabError\n",
      "TimeoutError\n",
      "TypeError\n",
      "UnboundLocalError\n",
      "UnicodeDecodeError\n",
      "UnicodeEncodeError\n",
      "UnicodeError\n",
      "UnicodeTranslateError\n",
      "UnicodeWarning\n",
      "UserWarning\n",
      "ValueError\n",
      "Warning\n",
      "ZeroDivisionError\n"
     ]
    }
   ],
   "source": [
    "print_exception_hierarchy()"
   ]
  },
  {
   "cell_type": "markdown",
   "id": "2bdabf8a-12b3-4024-bf14-57bf28ec8cb9",
   "metadata": {},
   "source": [
    "#### Q3. What errors are defined in the ArithmeticError class? Explain any two with an example.\n",
    "\n",
    "Ans:- Arithmetic error class in python is the base class for errors that occur during arithmetic operation ans has two common error \n",
    "1) ZeroDivisionError\n",
    "2) OverFlowError"
   ]
  },
  {
   "cell_type": "code",
   "execution_count": 4,
   "id": "00ebb698-415c-4dd8-8ac3-83b0d77670d5",
   "metadata": {},
   "outputs": [
    {
     "name": "stdout",
     "output_type": "stream",
     "text": [
      "Error is:division by zero\n"
     ]
    }
   ],
   "source": [
    "try:\n",
    "    result=50/0\n",
    "except ZeroDivisionError as e:\n",
    "    print(f\"Error is:{e}\")"
   ]
  },
  {
   "cell_type": "code",
   "execution_count": 10,
   "id": "569e27ce-a030-4a9f-9eb8-dc731cdbc5fc",
   "metadata": {},
   "outputs": [
    {
     "name": "stdout",
     "output_type": "stream",
     "text": [
      "Error is:list assignment index out of range\n"
     ]
    }
   ],
   "source": [
    "import sys\n",
    "\n",
    "try:\n",
    "    # res=sys.maxsize\n",
    "    # print(res+1)\n",
    "    arr=[2,1,5]\n",
    "    arr[5]=7\n",
    "except OverflowError as e:\n",
    "    print(f\"Error1 is:{e}\")\n",
    "except Exception as e:\n",
    "    print(f\"Error is:{e}\")"
   ]
  },
  {
   "cell_type": "code",
   "execution_count": null,
   "id": "1dd99aae-02a1-4e00-9138-ed6e9b9d44f3",
   "metadata": {},
   "outputs": [],
   "source": [
    "Q4. Why LookupError class is used? Explain with an example KeyError and IndexError.\n",
    "\n",
    "Ans:- LookupError class is used in python to handle error related to failed lookups in collections like dictionaries or sequence, it is a base class for\n",
    "'KeyError'and 'IndexError'\n",
    "\n",
    "1)KeyError: this error occurs when you try to access a non-existent key in a dictionary\n",
    "2)IndexError: this error happens when you try to access an index that is out of range in sequence like a list or a string."
   ]
  },
  {
   "cell_type": "code",
   "execution_count": 11,
   "id": "c99ac7d4-d763-4d21-812f-9f1e660e7b71",
   "metadata": {},
   "outputs": [
    {
     "name": "stdout",
     "output_type": "stream",
     "text": [
      "KeyError is: 'grape'\n"
     ]
    }
   ],
   "source": [
    "fruits={'apple':1,'orange':2,'banana':3}\n",
    "try:\n",
    "    print(fruits['grape'])\n",
    "except KeyError as e:\n",
    "    print(f\"KeyError is: {e}\")"
   ]
  },
  {
   "cell_type": "code",
   "execution_count": 12,
   "id": "1b8266dd-489a-46ed-a454-7ccf31af039c",
   "metadata": {},
   "outputs": [
    {
     "name": "stdout",
     "output_type": "stream",
     "text": [
      "IndexError is :list index out of range\n"
     ]
    }
   ],
   "source": [
    "arr=[1,2,3]\n",
    "try:\n",
    "    print(arr[4])\n",
    "except IndexError as e:\n",
    "    print(f\"IndexError is :{e}\")"
   ]
  },
  {
   "cell_type": "markdown",
   "id": "cc29cfb5-46b4-4e01-b146-f9ace21912cd",
   "metadata": {},
   "source": [
    "#### Q5. Explain ImportError. What is ModuleNotFoundError?"
   ]
  },
  {
   "cell_type": "markdown",
   "id": "ff403538-ba9d-434e-a313-9b844be16cfd",
   "metadata": {},
   "source": [
    "ImportError: is a python exception that occurs when there is a problem importing a module or a package, this error genrally happens when python cannot find the specific module while attempting to load it\n",
    "\n",
    "ModuleNotFoundError: is a subclass of importError and it specifically indicates that the module being imported could not be found "
   ]
  },
  {
   "cell_type": "markdown",
   "id": "5831a4dd-784e-488a-9e8a-98faf3027b39",
   "metadata": {},
   "source": [
    "#### Q6. List down some best practices for exception handling in python."
   ]
  },
  {
   "cell_type": "markdown",
   "id": "78e61660-b01e-43f6-b99f-4151506e9782",
   "metadata": {},
   "source": [
    ". __use always a specific exception__\n",
    "\n",
    ". __print always a proper message__\n",
    "\n",
    ". __always try to load your error__\n",
    "\n",
    ". __always avoid to write a multiple exception handling__\n",
    "\n",
    ". __documents all the error__\n",
    "\n",
    ". __clean up all the resourses__"
   ]
  },
  {
   "cell_type": "code",
   "execution_count": null,
   "id": "906377a2-323c-4503-9932-b871a7a10764",
   "metadata": {},
   "outputs": [],
   "source": []
  }
 ],
 "metadata": {
  "kernelspec": {
   "display_name": "Python 3 (ipykernel)",
   "language": "python",
   "name": "python3"
  },
  "language_info": {
   "codemirror_mode": {
    "name": "ipython",
    "version": 3
   },
   "file_extension": ".py",
   "mimetype": "text/x-python",
   "name": "python",
   "nbconvert_exporter": "python",
   "pygments_lexer": "ipython3",
   "version": "3.10.8"
  }
 },
 "nbformat": 4,
 "nbformat_minor": 5
}
