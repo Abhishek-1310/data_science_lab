{
 "cells": [
  {
   "cell_type": "markdown",
   "id": "b0387522-11b3-436a-b95a-ec42f59401cd",
   "metadata": {},
   "source": [
    "### Explain with an example each when to use a for loop and a while loop.\n",
    "\n",
    "Ans:- choose between for loop and while loop depends on the question requirment\n",
    "\n",
    "use of for loop\n",
    ":-when we know the number of iteration such as iteration of fixed size array then we can use for loop\n",
    ":-it is use for iterate over a sequence of elements and know the increment and decrement counter then we should use for loop\n",
    "\n",
    "Example of for loop:-\n",
    "\n",
    "l=[2,4,3,5,6]\n",
    "\n",
    "for i in l:\n",
    "\n",
    "    print(i)\n",
    "    \n",
    "\n",
    "use of while loop\n",
    ":-the number of iteration is uncertain, the number of iteration is not fixed and depend on some condition\n",
    ":-when you have iteration based condition then like when question required user interaction and take input then we should use while loop\n",
    "\n",
    "n=int(input(\"Enter how many number do you want to print\")\n",
    "\n",
    "i=0\n",
    "\n",
    "while i<n:\n",
    "\n",
    "    print(i)\n",
    "\n"
   ]
  },
  {
   "cell_type": "markdown",
   "id": "ae5e50a3-ad56-4f57-8685-c1ea7c0cd38c",
   "metadata": {},
   "source": [
    "### Write a python program to print the sum and product of the first 10 natural numbers using for\n",
    "### and while loop."
   ]
  },
  {
   "cell_type": "code",
   "execution_count": 1,
   "id": "f4c4391a-a93d-4ada-b060-8b53bec0e028",
   "metadata": {},
   "outputs": [
    {
     "name": "stdout",
     "output_type": "stream",
     "text": [
      "55\n",
      "3628800\n"
     ]
    }
   ],
   "source": [
    "sum=0\n",
    "pdt=1\n",
    "for i in range(1,11):\n",
    "    sum=sum+i\n",
    "    pdt=pdt*i\n",
    "print(sum)\n",
    "print(pdt)\n"
   ]
  },
  {
   "cell_type": "code",
   "execution_count": 2,
   "id": "55c2f973-51c3-4082-8c21-c0a3e660cfcb",
   "metadata": {},
   "outputs": [
    {
     "name": "stdout",
     "output_type": "stream",
     "text": [
      "55\n",
      "3628800\n"
     ]
    }
   ],
   "source": [
    "sum=0\n",
    "pdt=1\n",
    "i=1\n",
    "while i<11:\n",
    "    sum=sum+i\n",
    "    pdt=pdt*i\n",
    "    i=i+1\n",
    "print(sum)\n",
    "print(pdt)"
   ]
  },
  {
   "cell_type": "markdown",
   "id": "877d3729-26e9-4754-9323-b3441ec1c48b",
   "metadata": {},
   "source": [
    "### Create a python program to compute the electricity bill for a household.\n",
    "### The per-unit charges in rupees are as follows: For the first 100 units, the user will be charged Rs. 4.5 per unit, for the next 100 units, the user will be charged Rs. 6 per unit, and for the next 100 units, the user will be charged Rs. 10 per unit, After 300 units and above the user will be charged Rs. 20 per unit."
   ]
  },
  {
   "cell_type": "code",
   "execution_count": 3,
   "id": "3b0ca608-4993-43ee-91de-06904fa60e55",
   "metadata": {},
   "outputs": [
    {
     "name": "stdout",
     "output_type": "stream",
     "text": [
      "Electric bill calculator\n"
     ]
    },
    {
     "name": "stdin",
     "output_type": "stream",
     "text": [
      "Enter your Unit you have used in month -19\n"
     ]
    },
    {
     "name": "stdout",
     "output_type": "stream",
     "text": [
      "Invalid unit\n",
      "0\n"
     ]
    }
   ],
   "source": [
    "print(\"Electric bill calculator\")\n",
    "unit=int(input(\"Enter your Unit you have used in month\"))\n",
    "bill=0\n",
    "if(unit<=100 and unit>0):\n",
    "    bill=unit*4.5\n",
    "elif(unit<=200 and unit>0):\n",
    "    bill=100*4.5+(unit-100)*6\n",
    "elif(unit<=300 and unit>0):\n",
    "    bill=100*4.5+100*6+(unit-200)*10\n",
    "elif(unit>300):\n",
    "    bill=100*4.5+100*6+100*10+(unit-300)*20\n",
    "else:\n",
    "    print(\"Invalid unit\")\n",
    "print(bill)    \n",
    "    "
   ]
  },
  {
   "cell_type": "markdown",
   "id": "f0f61e06-3d7d-4a8d-92e4-fa2092143ced",
   "metadata": {},
   "source": [
    "### Q4. Create a list of numbers from 1 to 100. Use for loop and while loop to calculate the cube of each number and if the cube of that number is divisible by 4 or 5 then append that number in a list and print that list."
   ]
  },
  {
   "cell_type": "code",
   "execution_count": 2,
   "id": "d924e7ed-7c31-4408-a1b1-d1e59973ef74",
   "metadata": {},
   "outputs": [
    {
     "name": "stdout",
     "output_type": "stream",
     "text": [
      "[10, 20, 30, 40, 50, 60, 70, 80, 90, 100]\n"
     ]
    }
   ],
   "source": [
    "li=[]\n",
    "cu=0\n",
    "for i in range(1,101):\n",
    "    cu=i*i*i\n",
    "    if(cu%4==0 and cu%5==0):\n",
    "        li.append(i)\n",
    "print(li)\n",
    "    "
   ]
  },
  {
   "cell_type": "markdown",
   "id": "ea2ab312-e37b-4b3a-a614-cf51c05a0cc7",
   "metadata": {},
   "source": [
    "### Write a program to filter count vowels in the below-given string.string = \"I want to become a data scientist\""
   ]
  },
  {
   "cell_type": "code",
   "execution_count": 13,
   "id": "56ad8ee1-51b4-435d-a332-aadcfa767b99",
   "metadata": {},
   "outputs": [
    {
     "name": "stdout",
     "output_type": "stream",
     "text": [
      "26\n",
      "Iwanttobecomedatascientist\n"
     ]
    }
   ],
   "source": [
    "count=0\n",
    "filter_vowel=\"\"\n",
    "str=\"I want to become a data scientist\"\n",
    "\n",
    "for i in str:\n",
    "    if(i==\" \"):\n",
    "        continue\n",
    "    elif(i==\"a\" or i==\"a\" or i==\"a\" or i==\"a\" or i==\"a\" or i==\"a\" or i==\"a\" or i==\"a\" or ):\n",
    "        count+=1\n",
    "        filter_vowel+=i\n",
    "print(count)\n",
    "print(filter_vowel)"
   ]
  },
  {
   "cell_type": "code",
   "execution_count": null,
   "id": "05b0b01c-cdf6-4fc7-a2fb-53d9f4b7748b",
   "metadata": {},
   "outputs": [],
   "source": []
  }
 ],
 "metadata": {
  "kernelspec": {
   "display_name": "Python 3 (ipykernel)",
   "language": "python",
   "name": "python3"
  },
  "language_info": {
   "codemirror_mode": {
    "name": "ipython",
    "version": 3
   },
   "file_extension": ".py",
   "mimetype": "text/x-python",
   "name": "python",
   "nbconvert_exporter": "python",
   "pygments_lexer": "ipython3",
   "version": "3.10.8"
  }
 },
 "nbformat": 4,
 "nbformat_minor": 5
}
