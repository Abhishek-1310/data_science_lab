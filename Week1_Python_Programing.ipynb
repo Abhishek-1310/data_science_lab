{
 "cells": [
  {
   "cell_type": "markdown",
   "id": "c629d834-138c-4c26-a733-d84ef035a6be",
   "metadata": {},
   "source": [
    "#### 1. Write a program to accept percentage from the user and display the grade according to the following criteria:\n",
    "\n",
    "\n",
    "Marks:- A,   B,            C,             D\n",
    "\n",
    "Grade:- >90, >80 and <=90, >=60 and <=80, below 60"
   ]
  },
  {
   "cell_type": "code",
   "execution_count": 1,
   "id": "e06818cc-7cfd-4be8-a5f8-8d72b9a2a3de",
   "metadata": {},
   "outputs": [
    {
     "name": "stdin",
     "output_type": "stream",
     "text": [
      "Enter your Percentage 95\n"
     ]
    },
    {
     "name": "stdout",
     "output_type": "stream",
     "text": [
      "A\n"
     ]
    }
   ],
   "source": [
    "a=int(input(\"Enter your Percentage\"))\n",
    "if a>90:\n",
    "    print(\"A\")\n",
    "elif a>80 and a<=90:\n",
    "    print(\"B\")\n",
    "elif a>=60 and a<=80:\n",
    "    print(\"C\")\n",
    "elif a<60:\n",
    "    print(\"D\")"
   ]
  },
  {
   "cell_type": "markdown",
   "id": "c9f61fe9-2c6c-4209-b68d-7f4731c3bf73",
   "metadata": {},
   "source": [
    "#### 2. Write a program to accept the cost price of a bike and display the road tax to be paid according to the following criteria:\n",
    "\n",
    "Tax:-               15%,    10%,                  5%\n",
    "\n",
    "Cost Price(in Rs):->100000, >50000 and <= 100000, <= 50000\n",
    "\n",
    "\n"
   ]
  },
  {
   "cell_type": "code",
   "execution_count": 2,
   "id": "e7d3e88f-75d0-4b5c-9a25-6b97d82858ca",
   "metadata": {},
   "outputs": [
    {
     "name": "stdin",
     "output_type": "stream",
     "text": [
      "Enter the cost 250000\n"
     ]
    },
    {
     "name": "stdout",
     "output_type": "stream",
     "text": [
      "37500.0\n"
     ]
    }
   ],
   "source": [
    "cost=int(input(\"Enter the cost\"))\n",
    "tax=0.0\n",
    "if cost>100000:\n",
    "    tax=cost*0.15\n",
    "    print(tax)\n",
    "elif cost>50000 and cost<=100000:\n",
    "    tax=cost*0.10\n",
    "    print(tax)\n",
    "elif cost<=50000:\n",
    "    tax=cost*0.05\n",
    "    print(tax)"
   ]
  },
  {
   "cell_type": "markdown",
   "id": "8105b5d1-b81f-49be-969a-0839acdb53e6",
   "metadata": {},
   "source": [
    "#### 3. Accept any city from the user and display monuments of that city.\n",
    "\n",
    "City:-    Delhi,     Agra,        jaipur\n",
    "\n",
    "Monument:-Red Fort, Taj Mahal, jal Mahal"
   ]
  },
  {
   "cell_type": "code",
   "execution_count": 3,
   "id": "25aa2902-31f4-4412-a106-b952337cdefa",
   "metadata": {},
   "outputs": [
    {
     "name": "stdin",
     "output_type": "stream",
     "text": [
      "Enter the city Agra\n"
     ]
    },
    {
     "name": "stdout",
     "output_type": "stream",
     "text": [
      "Monument in Agra:- Taj Mahal\n"
     ]
    }
   ],
   "source": [
    "city=str(input(\"Enter the city\"))\n",
    "if city==\"Delhi\":\n",
    "    print(\"Monument in Delhi:- Red Fort\")\n",
    "elif city==\"Agra\":\n",
    "    print(\"Monument in Agra:- Taj Mahal\")\n",
    "elif city==\"jaipur\":\n",
    "    print(\"Monument in jaipur:- jal Mahal\")"
   ]
  },
  {
   "cell_type": "markdown",
   "id": "df26fa48-30e6-4fff-aa19-07f35958a0ff",
   "metadata": {},
   "source": [
    "#### 4. Check how many times a given number can be divided by 3 before it is less than or equal to 10."
   ]
  },
  {
   "cell_type": "code",
   "execution_count": 6,
   "id": "70ca412f-8840-46b4-aa34-bb508601612f",
   "metadata": {},
   "outputs": [
    {
     "name": "stdin",
     "output_type": "stream",
     "text": [
      "Enter any number 40\n"
     ]
    },
    {
     "name": "stdout",
     "output_type": "stream",
     "text": [
      "40  is divisible by 3:- 2\n"
     ]
    }
   ],
   "source": [
    "num=int(input(\"Enter any number\"))\n",
    "count=0\n",
    "num1=num\n",
    "while(num>10):\n",
    "    num=num/3\n",
    "    count+=1\n",
    "print(num1,\" is divisible by 3:-\",count)"
   ]
  },
  {
   "cell_type": "markdown",
   "id": "3993bc02-80f7-4b2a-82f8-9083ddc7f4a5",
   "metadata": {},
   "source": [
    "#### 5. Why and When to Use while Loop in Python give a detailed description with example"
   ]
  },
  {
   "cell_type": "markdown",
   "id": "c4b9073f-3c7b-4c88-8ad4-2afbc2a1868c",
   "metadata": {},
   "source": [
    "when we don't know the limit how many times loop will go then we use while loop "
   ]
  },
  {
   "cell_type": "code",
   "execution_count": 7,
   "id": "e1dac89e-635f-458b-9eb0-2c0173baf68f",
   "metadata": {},
   "outputs": [
    {
     "name": "stdin",
     "output_type": "stream",
     "text": [
      "Enter any number 5\n"
     ]
    },
    {
     "name": "stdout",
     "output_type": "stream",
     "text": [
      "15\n"
     ]
    }
   ],
   "source": [
    "sum=0\n",
    "a=int(input(\"Enter any number\"))\n",
    "while(a>0):\n",
    "    sum+=a\n",
    "    a-=1\n",
    "print(sum)"
   ]
  },
  {
   "cell_type": "markdown",
   "id": "5e01a789-4038-4a7d-84be-b1abad83b774",
   "metadata": {},
   "source": [
    "#### 6. Use nested while loop to print 3 different pattern."
   ]
  },
  {
   "cell_type": "code",
   "execution_count": 5,
   "id": "65416d69-c616-4cc8-9f42-d62c8611024d",
   "metadata": {},
   "outputs": [
    {
     "name": "stdout",
     "output_type": "stream",
     "text": [
      "* * * * * \n",
      "* * * * * \n",
      "* * * * * \n",
      "* * * * * \n",
      "* * * * * \n"
     ]
    }
   ],
   "source": [
    "i=0\n",
    "while i<5:\n",
    "    j=0\n",
    "    while j<5:\n",
    "        j+=1\n",
    "        print(\"*\", end=\" \")\n",
    "    print()\n",
    "    i+=1"
   ]
  },
  {
   "cell_type": "code",
   "execution_count": 9,
   "id": "731683ac-373b-4d66-a66b-9469aa2f01b5",
   "metadata": {},
   "outputs": [
    {
     "name": "stdout",
     "output_type": "stream",
     "text": [
      "* \n",
      "* * \n",
      "* * * \n",
      "* * * * \n",
      "* * * * * \n"
     ]
    }
   ],
   "source": [
    "i=0\n",
    "while i<5:\n",
    "    j=0\n",
    "    while j<=i:\n",
    "        j+=1\n",
    "        print(\"*\", end=\" \")\n",
    "    print()\n",
    "    i+=1"
   ]
  },
  {
   "cell_type": "code",
   "execution_count": 11,
   "id": "3f67d3d1-e024-4a68-901b-3c78f78b9c70",
   "metadata": {},
   "outputs": [
    {
     "name": "stdout",
     "output_type": "stream",
     "text": [
      "  \n",
      "  * \n",
      "  *   \n",
      "  *   * \n",
      "  *   *   \n",
      "  *   *   * \n",
      "  *   *   *   \n",
      "  *   *   *   * \n",
      "  *   *   *   *   \n",
      "  *   *   *   *   * \n"
     ]
    }
   ],
   "source": [
    "i=0\n",
    "while i<10:\n",
    "    j=0\n",
    "    while j<=i:\n",
    "        j+=1\n",
    "        if(j%2==0):\n",
    "            print(\"*\", end=\" \")\n",
    "        else:\n",
    "            print(\" \", end=\" \")\n",
    "    print()\n",
    "    i+=1"
   ]
  },
  {
   "cell_type": "markdown",
   "id": "335cdb3e-9cd2-4e7a-9831-922bcee5d3aa",
   "metadata": {},
   "source": [
    "#### 7. Reverse a while loop to display numbers from 10 to 1."
   ]
  },
  {
   "cell_type": "code",
   "execution_count": 12,
   "id": "eb4c37fd-371f-41a6-906b-78f0a9b47f91",
   "metadata": {},
   "outputs": [
    {
     "name": "stdout",
     "output_type": "stream",
     "text": [
      "10\n",
      "9\n",
      "8\n",
      "7\n",
      "6\n",
      "5\n",
      "4\n",
      "3\n",
      "2\n",
      "1\n"
     ]
    }
   ],
   "source": [
    "i=10\n",
    "while(i>0):\n",
    "    print(i)\n",
    "    i-=1"
   ]
  },
  {
   "cell_type": "markdown",
   "id": "62f7d32d-fd69-4131-88aa-75db6459b395",
   "metadata": {},
   "source": [
    "#### 8. Reverse a while loop to display numbers from 10 to 1"
   ]
  },
  {
   "cell_type": "code",
   "execution_count": 13,
   "id": "99b1d34b-a464-441b-a555-2f963f9f8d4a",
   "metadata": {},
   "outputs": [
    {
     "name": "stdout",
     "output_type": "stream",
     "text": [
      "10\n",
      "9\n",
      "8\n",
      "7\n",
      "6\n",
      "5\n",
      "4\n",
      "3\n",
      "2\n",
      "1\n"
     ]
    }
   ],
   "source": [
    "i=10\n",
    "while(i>0):\n",
    "    print(i)\n",
    "    i-=1"
   ]
  },
  {
   "cell_type": "code",
   "execution_count": null,
   "id": "46fd2d4e-dbf0-49f8-a883-7d039417b641",
   "metadata": {},
   "outputs": [],
   "source": []
  }
 ],
 "metadata": {
  "kernelspec": {
   "display_name": "Python 3 (ipykernel)",
   "language": "python",
   "name": "python3"
  },
  "language_info": {
   "codemirror_mode": {
    "name": "ipython",
    "version": 3
   },
   "file_extension": ".py",
   "mimetype": "text/x-python",
   "name": "python",
   "nbconvert_exporter": "python",
   "pygments_lexer": "ipython3",
   "version": "3.10.8"
  }
 },
 "nbformat": 4,
 "nbformat_minor": 5
}
