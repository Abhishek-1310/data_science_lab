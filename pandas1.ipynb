{
 "cells": [
  {
   "cell_type": "markdown",
   "id": "dc70f998-8318-47ef-9bbc-0be9b89a6fb3",
   "metadata": {},
   "source": [
    "#### Q1. Create a Pandas Series that contains the following data: 4, 8, 15, 16, 23, and 42. Then, print the series."
   ]
  },
  {
   "cell_type": "code",
   "execution_count": 1,
   "id": "4b3b94a7-4a51-4f55-bbc7-515c365a450b",
   "metadata": {},
   "outputs": [
    {
     "name": "stdout",
     "output_type": "stream",
     "text": [
      "0     4\n",
      "1     8\n",
      "2    15\n",
      "3    16\n",
      "4    23\n",
      "5    42\n",
      "dtype: int64\n"
     ]
    }
   ],
   "source": [
    "import pandas as pd\n",
    "\n",
    "data=[4,8,15,16,23,42]\n",
    "series=pd.Series(data)\n",
    "print(series)"
   ]
  },
  {
   "cell_type": "markdown",
   "id": "6fa4216e-b247-4b9f-be77-05f60100da2a",
   "metadata": {},
   "source": [
    "#### Q3. Create a Pandas DataFrame that contains the following data: Then, print the DataFrame."
   ]
  },
  {
   "cell_type": "code",
   "execution_count": 3,
   "id": "860f01e0-f789-4600-abb8-d2c1058da539",
   "metadata": {},
   "outputs": [
    {
     "name": "stdout",
     "output_type": "stream",
     "text": [
      "Name        [Alice, Bob, Claire]\n",
      "Age                 [25, 30, 27]\n",
      "Gender    [Female, Female, Male]\n",
      "dtype: object\n"
     ]
    }
   ],
   "source": [
    "data=[\n",
    "{'Name':'Alice','Age':25,'Gender':'Female'},\n",
    "{'Name':'Bob','Age':30,'Gender':'Female'},\n",
    "{'Name':'Claire','Age':27,'Gender':'Male'}]\n",
    "df=pd.DataFrame(data)\n",
    "dfs=df.to_dict(orient='list')\n",
    "print(pd.Series(dfs))"
   ]
  },
  {
   "cell_type": "code",
   "execution_count": 5,
   "id": "b16a9837-ff36-4d24-b3ef-72091a2c5ec0",
   "metadata": {},
   "outputs": [
    {
     "name": "stdout",
     "output_type": "stream",
     "text": [
      "     Name  Age  Gender\n",
      "0   Alice   25  Female\n",
      "1     Bob   30  Female\n",
      "2  Claire   27    Male\n"
     ]
    }
   ],
   "source": [
    "data1={\n",
    "'Name':['Alice','Bob','Claire'],\n",
    "'Age':[25,30,27],\n",
    "'Gender':['Female','Female','Male']}\n",
    "df=pd.DataFrame(data1)\n",
    "print(df)"
   ]
  },
  {
   "cell_type": "markdown",
   "id": "f55aae83-6d10-425d-b5db-709c89135c41",
   "metadata": {},
   "source": [
    "#### Q2. Create a variable of list type containing 10 elements in it, and apply pandas.Series function on the variable print it."
   ]
  },
  {
   "cell_type": "code",
   "execution_count": 6,
   "id": "63ec1189-1a88-441c-9ebc-1d212426b968",
   "metadata": {},
   "outputs": [
    {
     "name": "stdout",
     "output_type": "stream",
     "text": [
      "0     1\n",
      "1     2\n",
      "2     3\n",
      "3     4\n",
      "4     5\n",
      "5     6\n",
      "6     7\n",
      "7     8\n",
      "8     9\n",
      "9    10\n",
      "dtype: int64\n"
     ]
    }
   ],
   "source": [
    "lists=[1,2,3,4,5,6,7,8,9,10]\n",
    "series=pd.Series(lists)\n",
    "print(series)"
   ]
  },
  {
   "cell_type": "markdown",
   "id": "fbc166d6-e2d5-4f34-bd32-c7bfb7f7b0d8",
   "metadata": {},
   "source": [
    "#### Q4. What is ‘DataFrame’ in pandas and how is it different from pandas.series? Explain with an example.\n"
   ]
  },
  {
   "cell_type": "code",
   "execution_count": null,
   "id": "2cc7bcc8-50f4-4b84-acb3-976694955469",
   "metadata": {},
   "outputs": [],
   "source": [
    "in pandas, both series and dataframe are fundamental data strutures, but they have different purposes:\n",
    "    pandas.Series:-\n",
    "    it is a one dimensional labeled array that can hold data of any type.\n",
    "    it similar to single attribute in a dataset(single column of data with label).\n",
    "    each elements in a series has la label which has index also\n",
    "    \n",
    "    example:\n",
    "    lists=[1,2,3,4,5,6,7,8,9,10]\n",
    "    series=pd.Series(lists)\n",
    "    print(series)\n",
    "    \n",
    "    dataframe:-\n",
    "    a data frame is a two dimensional labeled data struture, like a spreadsheet.\n",
    "    it is a collection of a series represents a column.\n",
    "    dataframe allow you to store and manipulate data in a tabular form with rows and columns.\n",
    "    you can perform various operations like grouping,merging,filtering and more on dataframes\n",
    "    example:-\n",
    "    data1={\n",
    "    'Name':['Alice','Bob','Claire'],\n",
    "    'Age':[25,30,27],\n",
    "    'Gender':['Female','Female','Male']}\n",
    "    df=pd.DataFrame(data1)\n",
    "    print(df)"
   ]
  },
  {
   "cell_type": "markdown",
   "id": "8886dbed-04f2-41f2-885c-dcb3da0723f6",
   "metadata": {},
   "source": [
    "#### Q5. What are some common functions you can use to manipulate data in a Pandas DataFrame? Can you give an example of when you might use one of these functions?"
   ]
  },
  {
   "cell_type": "code",
   "execution_count": null,
   "id": "9405b421-678c-4242-ae8e-45269441b223",
   "metadata": {},
   "outputs": [],
   "source": [
    "pandas provides a wide range of functions to manipulate data in a dataframe\n",
    "\n",
    "1: Selecting a columns:\n",
    "    you can select specific columns from a dataframe using indexing or the 'loc' and 'iloc' methods.\n",
    "    \n",
    "    import pandas as pd\n",
    "\n",
    "    data = {'Name': ['Alice', 'Bob', 'Claire'],\n",
    "        'Age': [25, 30, 27],\n",
    "        'Gender': ['Female', 'Male', 'Female']}\n",
    "\n",
    "    df = pd.DataFrame(data)\n",
    "\n",
    "    # Select the 'Name' column\n",
    "    name_column = df['Name']\n",
    "\n",
    "    # Select the 'Name' and 'Age' columns\n",
    "    name_age_columns = df[['Name', 'Age']]\n",
    "2: filtering data:\n",
    "    you can filter rows based on conditions\n",
    "    # Filter rows where Age is greater than 26\n",
    "    filtered_df = df[df['Age'] > 26]\n",
    "3: sorting data:\n",
    "    you can sort dataframe by one or more columns.\n",
    "    # Sort by 'Age' column in ascending order\n",
    "    sorted_df = df.sort_values(by='Age')\n",
    "\n",
    "    # Sort by 'Age' column in descending order\n",
    "    sorted_desc_df = df.sort_values(by='Age', ascending=False)\n",
    "4: grouping and aggregation\n",
    "    you can group data by a column and perform aggregation fun sum(),mean()\n",
    "    # Group by 'Gender' and calculate the mean age for each group\n",
    "    group_mean_age = df.groupby('Gender')['Age'].mean()\n",
    "5: Adding and modifying columns:\n",
    "    you can add new columns or modify existing ones.\n",
    "    # Add a new column 'IsAdult' based on the 'Age' column\n",
    "    df['IsAdult'] = df['Age'] > 18\n",
    "\n",
    "    # Modify the 'Gender' column\n",
    "    df['Gender'] = df['Gender'].map({'Female': 'F', 'Male': 'M'})\n",
    "6: Handling Missing Data\n",
    "    you can handle missing data using Dropna(),fillna()\n",
    "    # Remove rows with missing values\n",
    "    df.dropna(inplace=True)\n",
    "\n",
    "    # Fill missing values with a specific value\n",
    "    df['Age'].fillna(0, inplace=True)\n",
    "7: Merging and joing dataframe\n",
    "    # Merge two DataFrames based on a common column\n",
    "    merged_df = df1.merge(df2, on='ID', how='inner')\n",
    "\n",
    "    # Concatenate DataFrames vertically\n",
    "    concatenated_df = pd.concat([df1, df2])"
   ]
  },
  {
   "cell_type": "markdown",
   "id": "e91486db-4576-4abc-8053-cfb1bbcaa89b",
   "metadata": {},
   "source": [
    "#### Q6. Which of the following is mutable in nature Series, DataFrame, Panel?\n"
   ]
  },
  {
   "cell_type": "markdown",
   "id": "b70d96d7-20cc-4279-ace5-f2b1bf8164c2",
   "metadata": {},
   "source": [
    "In Pandas, a Series and a DataFrame are mutable, while a Panel is not.\n",
    "\n",
    "1. Series: A Pandas Series is mutable, meaning you can modify its elements, change its values, and perform various operations to update or manipulate the data it contains.\n",
    "\n",
    "2. DataFrame: A Pandas DataFrame is also mutable. You can add or remove columns, change the values in specific cells, append rows, and perform a wide range of operations to modify the structure and content of the DataFrame.\n",
    "\n",
    "3. Panel: However, a Panel, which used to be a data structure in Pandas to handle three-dimensional data, has been deprecated in pandas version It is no longer part of the core Pandas library as of my knowledge cutoff date in September 2021. If you are working with multi-dimensional data in recent versions of Pandas, you would typically use multi-index DataFrames or other data structures.\n",
    "\n",
    "Keep in mind that while Series and DataFrames are mutable, it's important to handle them with care when modifying data, especially when working with large datasets, to avoid unintended consequences or data integrity issues."
   ]
  },
  {
   "cell_type": "markdown",
   "id": "fddec15c-5c42-4007-897a-acb4294a7e62",
   "metadata": {},
   "source": [
    "#### Q7. Create a DataFrame using multiple Series. Explain with an example."
   ]
  },
  {
   "cell_type": "code",
   "execution_count": 2,
   "id": "f1e2305b-3c20-4f48-9eb1-5e06393ebddd",
   "metadata": {},
   "outputs": [
    {
     "name": "stdout",
     "output_type": "stream",
     "text": [
      "     Name  Age  Gender\n",
      "0   Alice   25  Female\n",
      "1     Bob   30    Male\n",
      "2  Claire   27  Female\n"
     ]
    }
   ],
   "source": [
    "\n",
    "import pandas as pd\n",
    "\n",
    "# Create individual Series\n",
    "names = pd.Series(['Alice', 'Bob', 'Claire'])\n",
    "ages = pd.Series([25, 30, 27])\n",
    "genders = pd.Series(['Female', 'Male', 'Female'])\n",
    "\n",
    "# Combine the Series into a DataFrame\n",
    "data = {'Name': names, 'Age': ages, 'Gender': genders}\n",
    "df = pd.DataFrame(data)\n",
    "\n",
    "# Print the DataFrame\n",
    "print(df)"
   ]
  },
  {
   "cell_type": "code",
   "execution_count": null,
   "id": "e8e6f548-36d3-4396-a19b-3622c8979fd3",
   "metadata": {},
   "outputs": [],
   "source": []
  }
 ],
 "metadata": {
  "kernelspec": {
   "display_name": "Python 3 (ipykernel)",
   "language": "python",
   "name": "python3"
  },
  "language_info": {
   "codemirror_mode": {
    "name": "ipython",
    "version": 3
   },
   "file_extension": ".py",
   "mimetype": "text/x-python",
   "name": "python",
   "nbconvert_exporter": "python",
   "pygments_lexer": "ipython3",
   "version": "3.10.8"
  }
 },
 "nbformat": 4,
 "nbformat_minor": 5
}
