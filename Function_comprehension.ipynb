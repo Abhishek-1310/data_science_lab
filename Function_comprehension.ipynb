{
 "cells": [
  {
   "cell_type": "markdown",
   "id": "b5500f77-44a9-47b9-9535-56281d8821fb",
   "metadata": {},
   "source": [
    "### Q1. Which keyword is used to create a function? Create a function to return a list of odd numbers in the range of 1 to 25.\n",
    "\n",
    "Ans:- def keyword is used to create function \n"
   ]
  },
  {
   "cell_type": "code",
   "execution_count": 1,
   "id": "fcf0ae8a-1568-49e0-9610-5f53100b58b5",
   "metadata": {},
   "outputs": [
    {
     "name": "stdout",
     "output_type": "stream",
     "text": [
      "[1, 3, 5, 7, 9, 11, 13, 15, 17, 19, 21, 23, 25]\n"
     ]
    }
   ],
   "source": [
    "def odd_list():\n",
    "    return [i for i in range(1,26) if i%2!=0]\n",
    "print(odd_list())"
   ]
  },
  {
   "cell_type": "markdown",
   "id": "0741b142-230b-4143-8f87-e95f0dbd03b5",
   "metadata": {},
   "source": [
    "### Q2. Why *args and **kwargs is used in some functions? Create a function each for *args and **kwargs to demonstrate their use.\n",
    "\n",
    "Ans:-*ars means you can pass dynamic number of paramenter in function if you don't know how many parameter comes on run time then use\n",
    "*args for multiple parameter\n",
    "\n",
    "**kwargs means you can pass multiple parameter with key , value pair in function multiple key value parameter you can pass at run time\n",
    "in function"
   ]
  },
  {
   "cell_type": "code",
   "execution_count": 14,
   "id": "463ca9b9-552f-4f4d-8ad3-2c276bdfcdd3",
   "metadata": {},
   "outputs": [
    {
     "name": "stdout",
     "output_type": "stream",
     "text": [
      "(2, 3)\n",
      "(2, 3, 4, 5)\n"
     ]
    }
   ],
   "source": [
    "# here pass 2 parameter and 4 parameter any number of parameter *args can accept\n",
    "def add_num(*args):\n",
    "    return args\n",
    "\n",
    "print(add_num(2,3))\n",
    "print(add_num(2,3,4,5))"
   ]
  },
  {
   "cell_type": "code",
   "execution_count": 12,
   "id": "46464f2f-2c91-4104-8f29-767b0eb4c923",
   "metadata": {},
   "outputs": [
    {
     "name": "stdout",
     "output_type": "stream",
     "text": [
      "{'a': 1, 'b': 2}\n",
      "{'a': 1, 'b': 2, 'c': 7}\n"
     ]
    }
   ],
   "source": [
    "# here i have pass 2 and 3  parameter with key value pair\n",
    "def add_num(**kargs):\n",
    "    return kargs\n",
    "\n",
    "print(add_num(a=1,b=2))\n",
    "print(add_num(a=1,b=2,c=7))"
   ]
  },
  {
   "cell_type": "markdown",
   "id": "6a2f1b88-b7ad-4cab-a87a-a11a41274189",
   "metadata": {},
   "source": [
    "### Q3. What is an iterator in python? Name the method used to initialise the iterator object and the method used for iteration. Use these methods to print the first five elements of the given list [2, 4, 6, 8, 10, 12, 14, 16, 18, 20].\n",
    "\n",
    "ans:- in python iterator is an object that repersents a strem of data. it is used to traverse through elements of a collection such as\n",
    "list, tuple, dictionary and genrate sequence of value\n",
    "\n",
    "iter() method is used to intialise the iterator object and \n",
    "next() method is used for iteration"
   ]
  },
  {
   "cell_type": "code",
   "execution_count": 1,
   "id": "17d20544-3c0e-49d0-aead-ef253e97f60a",
   "metadata": {},
   "outputs": [
    {
     "name": "stdout",
     "output_type": "stream",
     "text": [
      "2\n",
      "4\n",
      "6\n",
      "8\n",
      "10\n"
     ]
    }
   ],
   "source": [
    "l=[2, 4, 6, 8, 10, 12, 14, 16, 18, 20]\n",
    "s=iter(l)\n",
    "print(next(s))\n",
    "print(next(s))\n",
    "print(next(s))\n",
    "print(next(s))\n",
    "print(next(s))"
   ]
  },
  {
   "cell_type": "markdown",
   "id": "f5b9ccdd-a22b-4a1c-b54a-5e9396d04e02",
   "metadata": {},
   "source": [
    "### Q4. What is a generator function in python? Why yield keyword is used? Give an example of a generator function.\n",
    "\n",
    "Ans:- genrator function is a special type of function that generates a sequence value using yield keyword and it is used for memory management\n",
    "it is not store the value just getting and pass the value that time "
   ]
  },
  {
   "cell_type": "code",
   "execution_count": 3,
   "id": "74f1019a-1ffe-45c6-bbe4-a1410da886a9",
   "metadata": {},
   "outputs": [
    {
     "name": "stdout",
     "output_type": "stream",
     "text": [
      "2\n",
      "4\n",
      "6\n",
      "8\n",
      "10\n"
     ]
    }
   ],
   "source": [
    "l=[2, 4, 6, 8, 10]\n",
    "def sqr(l):\n",
    "    for i in l:\n",
    "        yield i\n",
    "        \n",
    "sval=sqr(l)\n",
    "for i in sval:\n",
    "    print(i)"
   ]
  },
  {
   "cell_type": "markdown",
   "id": "1ae1fccb-0a82-4428-94af-04ed5b9466ff",
   "metadata": {},
   "source": [
    "### Q5. Create a generator function for prime numbers less than 1000. Use the next() method to print the first 20 prime numbers.\n"
   ]
  },
  {
   "cell_type": "code",
   "execution_count": 7,
   "id": "e6de1489-e6bf-4584-a891-3e4debe9feba",
   "metadata": {},
   "outputs": [
    {
     "name": "stdout",
     "output_type": "stream",
     "text": [
      "1\n",
      "2\n",
      "3\n",
      "5\n",
      "7\n",
      "11\n",
      "13\n",
      "17\n",
      "19\n",
      "23\n",
      "29\n",
      "31\n",
      "37\n",
      "41\n",
      "43\n",
      "47\n",
      "53\n",
      "59\n",
      "61\n",
      "67\n"
     ]
    }
   ],
   "source": [
    "def primt():\n",
    "    for i in range(1,1001):\n",
    "        count=0\n",
    "        for j in range(2,i//2+1):\n",
    "            if i%j==0:\n",
    "                count+=1\n",
    "                break\n",
    "        if count==0:\n",
    "            yield i\n",
    "p=primt()\n",
    "for i in range(1,21):\n",
    "    print(next(p))"
   ]
  },
  {
   "cell_type": "markdown",
   "id": "61502a4d-1a15-45ab-bf53-e894283c74c1",
   "metadata": {},
   "source": [
    "### Q6. Write a python program to print the first 10 Fibonacci numbers using a while loop.\n"
   ]
  },
  {
   "cell_type": "code",
   "execution_count": 2,
   "id": "9e00523e-ce2f-48d4-8804-8f20d6482de6",
   "metadata": {},
   "outputs": [
    {
     "name": "stdout",
     "output_type": "stream",
     "text": [
      "0\n",
      "1\n",
      "1\n",
      "2\n",
      "3\n",
      "5\n",
      "8\n",
      "13\n",
      "21\n",
      "34\n"
     ]
    }
   ],
   "source": [
    "a=0\n",
    "b=1\n",
    "for i in range(10):\n",
    "    print(a)\n",
    "    c=a+b\n",
    "    a=b\n",
    "    b=c"
   ]
  },
  {
   "cell_type": "markdown",
   "id": "f1f8f69a-1204-4414-9566-318dbe1507c0",
   "metadata": {},
   "source": [
    "### Q7. Write a List Comprehension to iterate through the given string: ‘pwskills’.\n",
    "Expected output: ['p', 'w', 's', 'k', 'i', 'l', 'l', 's']\n"
   ]
  },
  {
   "cell_type": "code",
   "execution_count": 4,
   "id": "d603e77d-ee3e-4ede-8245-c8b8eaba4090",
   "metadata": {},
   "outputs": [
    {
     "data": {
      "text/plain": [
       "['p', 'w', 's', 'k', 'i', 'l', 'l', 's']"
      ]
     },
     "execution_count": 4,
     "metadata": {},
     "output_type": "execute_result"
    }
   ],
   "source": [
    "s='pwskills'\n",
    "[x for x in s]"
   ]
  },
  {
   "cell_type": "markdown",
   "id": "ccb5b412-d9e3-4876-b587-0e164165cfe1",
   "metadata": {},
   "source": [
    "### Q8. Write a python program to check whether a given number is Palindrome or not using a while loop.\n"
   ]
  },
  {
   "cell_type": "code",
   "execution_count": 26,
   "id": "921318b9-97b2-445a-a5d8-ac2932c31ab6",
   "metadata": {},
   "outputs": [],
   "source": [
    "def palindrome(n):\n",
    "    a=list(str(n))\n",
    "    print(a)\n",
    "    st,en=0,len(a)\n",
    "    flag=1\n",
    "    while(st<=en):\n",
    "        print(\"hello\",a[st],a[en-1])\n",
    "        if a[st]!=a[en-1]:\n",
    "            flag=0\n",
    "            break\n",
    "        st+=1\n",
    "        en-=1\n",
    "    if flag==1:\n",
    "        return \"Palindrome Number\"\n",
    "    else:\n",
    "        return \"Not Palindrome Number\"\n",
    "            "
   ]
  },
  {
   "cell_type": "code",
   "execution_count": 30,
   "id": "7fbc0116-0aef-4bce-9d55-199def12c8fa",
   "metadata": {},
   "outputs": [
    {
     "name": "stdout",
     "output_type": "stream",
     "text": [
      "['1', '2', '4', '5', '4', '2', '1']\n",
      "hello 1 1\n",
      "hello 2 2\n",
      "hello 4 4\n",
      "hello 5 5\n",
      "Palindrome Number\n"
     ]
    }
   ],
   "source": [
    "print(palindrome(1245421))"
   ]
  },
  {
   "cell_type": "code",
   "execution_count": null,
   "id": "4a8ae73e-2a12-4e3a-a058-98696bef6ee6",
   "metadata": {},
   "outputs": [],
   "source": [
    "Q9. Write a code to print odd numbers from 1 to 100 using list comprehension.\n",
    "Note: Use a list comprehension to create a list from 1 to 100 and use another List comprehension to filter\n",
    "out odd numbers."
   ]
  },
  {
   "cell_type": "code",
   "execution_count": 32,
   "id": "cb95e6c4-008e-40a1-aac5-57b17455ed17",
   "metadata": {},
   "outputs": [
    {
     "data": {
      "text/plain": [
       "[1,\n",
       " 3,\n",
       " 5,\n",
       " 7,\n",
       " 9,\n",
       " 11,\n",
       " 13,\n",
       " 15,\n",
       " 17,\n",
       " 19,\n",
       " 21,\n",
       " 23,\n",
       " 25,\n",
       " 27,\n",
       " 29,\n",
       " 31,\n",
       " 33,\n",
       " 35,\n",
       " 37,\n",
       " 39,\n",
       " 41,\n",
       " 43,\n",
       " 45,\n",
       " 47,\n",
       " 49,\n",
       " 51,\n",
       " 53,\n",
       " 55,\n",
       " 57,\n",
       " 59,\n",
       " 61,\n",
       " 63,\n",
       " 65,\n",
       " 67,\n",
       " 69,\n",
       " 71,\n",
       " 73,\n",
       " 75,\n",
       " 77,\n",
       " 79,\n",
       " 81,\n",
       " 83,\n",
       " 85,\n",
       " 87,\n",
       " 89,\n",
       " 91,\n",
       " 93,\n",
       " 95,\n",
       " 97,\n",
       " 99]"
      ]
     },
     "execution_count": 32,
     "metadata": {},
     "output_type": "execute_result"
    }
   ],
   "source": [
    "a=[x for x in range(1,101)]\n",
    "[x for x in a if x%2!=0]"
   ]
  },
  {
   "cell_type": "code",
   "execution_count": null,
   "id": "44eb3f67-6a1a-4d20-ae52-887950ff459e",
   "metadata": {},
   "outputs": [],
   "source": []
  }
 ],
 "metadata": {
  "kernelspec": {
   "display_name": "Python 3 (ipykernel)",
   "language": "python",
   "name": "python3"
  },
  "language_info": {
   "codemirror_mode": {
    "name": "ipython",
    "version": 3
   },
   "file_extension": ".py",
   "mimetype": "text/x-python",
   "name": "python",
   "nbconvert_exporter": "python",
   "pygments_lexer": "ipython3",
   "version": "3.10.8"
  }
 },
 "nbformat": 4,
 "nbformat_minor": 5
}
