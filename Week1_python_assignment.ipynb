{
 "cells": [
  {
   "cell_type": "markdown",
   "id": "aa519fff-c8d6-4022-84e2-10cfeafd6b1b",
   "metadata": {},
   "source": [
    "#### 1. Who developed Python Programming Language?\n",
    "\n"
   ]
  },
  {
   "cell_type": "markdown",
   "id": "10179fe3-3bda-4402-a24c-c625a2b2bdc8",
   "metadata": {},
   "source": [
    "The programming language Python was developed in the late 1980s and its implementation was started in December 1989 by Guido van Rossum at CWI in the Netherlands "
   ]
  },
  {
   "cell_type": "markdown",
   "id": "520b7e50-354d-4be2-a38e-21e3f800213a",
   "metadata": {},
   "source": [
    "#### 2. Which type of Programming does Python support?"
   ]
  },
  {
   "cell_type": "markdown",
   "id": "21b116d8-b8a0-4f9a-98e8-feffdab1e5f3",
   "metadata": {},
   "source": [
    "Python is a dynamically-typed and garbage-collected programming language that supports multiple programming paradigms, including structured\n",
    "object oriented and functional programing"
   ]
  },
  {
   "cell_type": "markdown",
   "id": "828a6b15-804f-4466-85d5-f2769a896b97",
   "metadata": {},
   "source": [
    "#### 3. Is Python case sensitive when dealing with identifiers? \n",
    "\n",
    "Yes, Python is a case-sensitive language, i.e., it treats uppercase and lowercase characters differently. This applies to identifiers too.\n",
    "You must avoid using the same name with different cases while naming identifiers.\n",
    "\n",
    "#### 4. What is the correct extension of the Python file?"
   ]
  },
  {
   "cell_type": "markdown",
   "id": "9387718d-92dc-49c4-bd08-4d71de4de51c",
   "metadata": {},
   "source": [
    "When creating programs and code in Python, the correct file extension for your code is .py."
   ]
  },
  {
   "cell_type": "markdown",
   "id": "4640740a-64b1-477f-a066-6ac25ba0801f",
   "metadata": {},
   "source": [
    "#### 5. Is Python code compiled or interpreted?"
   ]
  },
  {
   "cell_type": "markdown",
   "id": "3095e486-cb47-4653-ad84-f66029689a20",
   "metadata": {},
   "source": [
    "Python is generally classified as an interpreted language. It follows an interpreted execution model, where the source code is translated into bytecode by the Python interpreter at runtime. The bytecode is then executed by the interpreter. This interpretation process occurs line by line, which allows for dynamic and interactive development.\n",
    "\n",
    "However, it's important to note that Python also incorporates elements of compilation. When a Python program is run, it goes through a compilation step where the source code is translated into bytecode. This bytecode can be stored in .pyc files to speed up subsequent executions. Therefore, Python can be considered a compiled language in the sense that it converts the source code into an intermediate form before execution."
   ]
  },
  {
   "cell_type": "markdown",
   "id": "952b69a2-7c72-412f-af0f-d5eefe9e3a4f",
   "metadata": {},
   "source": [
    "#### 6. Name a few blocks of code used to define in Python language?"
   ]
  },
  {
   "cell_type": "markdown",
   "id": "79b6bf4b-b4bd-4b24-b91b-9d8158493c8c",
   "metadata": {},
   "source": [
    "In Python, the blocks of code are defined using indentation. The indentation level determines the grouping of statements within a block. There are several types of blocks commonly used in Python:\n",
    "\n",
    "1. Function Definition Block: This block defines a function using the def keyword followed by the function name and parentheses. The indented block following the function definition contains the function's body.\n",
    "\n",
    "\n",
    "2. Conditional Blocks: These blocks are used to execute code conditionally based on a specific condition. The most common conditional blocks are if, elif (short for \"else if\"), and else.\n",
    "\n",
    "\n",
    "3. Loop Blocks: These blocks are used for iterative execution of code. Python has two primary types of loop blocks: for loops and while loops.\n",
    "\n",
    "\n",
    "4. Exception Handling Blocks: These blocks are used to handle exceptions or errors that might occur during program execution. They consist of try, except, else, and finally clauses.\n",
    "\n",
    "\n",
    "These are some of the common blocks used in Python to define different sections of code based on their purpose and execution context."
   ]
  },
  {
   "cell_type": "markdown",
   "id": "788a17dd-8e37-485a-a3a8-e672d46efbb3",
   "metadata": {},
   "source": [
    "#### 7. State a character used to give single-line comments in Python?"
   ]
  },
  {
   "cell_type": "markdown",
   "id": "73570490-9616-43af-878a-49eec31621ed",
   "metadata": {},
   "source": [
    "In Python, the Numero sign (#) is used to give single-line comments12. To write multi-line comments, close the text between triple quotes1."
   ]
  },
  {
   "cell_type": "markdown",
   "id": "c3c4620b-3aa1-4691-8099-cce9d1835366",
   "metadata": {},
   "source": [
    "#### 8. Mention functions which can help us to find the version of python that we are currently working on?"
   ]
  },
  {
   "cell_type": "markdown",
   "id": "642b42b9-7def-401d-b0df-2c4f68d78269",
   "metadata": {},
   "source": [
    "To obtain details of the Python Interpreter, use the methods listed below:\n",
    "\n",
    "The python -V command\n",
    "Using the sys.version method\n",
    "And, the python_version() function"
   ]
  },
  {
   "cell_type": "markdown",
   "id": "a3bb1c3d-0fdb-4db2-8bca-1c6df226f4d4",
   "metadata": {},
   "source": [
    "#### 9. Python supports the creation of anonymous functions at runtime, using a construct called"
   ]
  },
  {
   "cell_type": "markdown",
   "id": "16b2155a-f328-4e6d-8aa5-f03631b21b58",
   "metadata": {},
   "source": [
    "Yes, Python supports the creation of anonymous functions at runtime, using a construct called lambda."
   ]
  },
  {
   "cell_type": "markdown",
   "id": "03e9d825-c8e2-4555-a3bc-fc72bf28c7bf",
   "metadata": {},
   "source": [
    "#### 10. What does pip stand for python?"
   ]
  },
  {
   "cell_type": "markdown",
   "id": "c732dcec-542a-42b7-942d-e2427bb9168e",
   "metadata": {},
   "source": [
    "pip is a package-management system written in Python and is used to install and manage software packages."
   ]
  },
  {
   "cell_type": "markdown",
   "id": "9d285db4-3f27-46ec-acfe-2835862b63c6",
   "metadata": {},
   "source": [
    "#### 11. Mention a few built-in functions in python?"
   ]
  },
  {
   "cell_type": "markdown",
   "id": "6ec31a6e-e969-4708-bc1d-f35c2cde87d8",
   "metadata": {},
   "source": [
    "type(), len(), print(), .find(), .count(), .append(), range(), iter(), next(), .isalnum()"
   ]
  },
  {
   "cell_type": "markdown",
   "id": "c08ed797-92ac-41ec-a0c8-816d873267aa",
   "metadata": {},
   "source": [
    "#### 12. What is the maximum possible length of an identifier in Python?"
   ]
  },
  {
   "cell_type": "markdown",
   "id": "7b7d7cbb-4777-413f-87fa-05c47f5c08f2",
   "metadata": {},
   "source": [
    "In Python, the highest possible length of an identifier is 79 characters. Python is a high level programming language."
   ]
  },
  {
   "cell_type": "markdown",
   "id": "b6f6ef24-309f-49ec-bddc-8cab74be9cca",
   "metadata": {},
   "source": [
    "#### 13. What are the benefits of using Python?"
   ]
  },
  {
   "cell_type": "markdown",
   "id": "954bbd46-3701-42a9-a472-baeac84aac92",
   "metadata": {},
   "source": [
    "It is easy to learn and use, with a simple and expressive syntax.\n",
    "It is open-source and has a large and active community of developers and learners.\n",
    "It is versatile and supports multiple programming paradigms, such as object-oriented, functional, and procedural"
   ]
  },
  {
   "cell_type": "markdown",
   "id": "ce3cd8dc-2858-4bc2-a22f-8a1b51f2dba5",
   "metadata": {},
   "source": [
    "#### 14. How is memory managed in Python?"
   ]
  },
  {
   "cell_type": "markdown",
   "id": "fa00b339-1ca2-40fa-ae19-80353683bf49",
   "metadata": {},
   "source": [
    "Memory management in Python involves a private heap containing all Python objects and data1. Python’s memory allocation is managed by Python’s memory manager."
   ]
  },
  {
   "cell_type": "markdown",
   "id": "5d2a20e5-854b-4470-937e-9c2998db4085",
   "metadata": {},
   "source": [
    "#### 15. How to install Python on Windows and set path variables?"
   ]
  },
  {
   "cell_type": "markdown",
   "id": "3e6368c7-9491-431b-bfd9-d436d6a1adbd",
   "metadata": {},
   "source": [
    "if you just installed Python on Windows 10 for the first time, running it via the Windows Terminal is only possible if it's added to the Windows PATH environment variable.\n",
    "If it's not in the PATH variable, the terminal returns a \"command not found\" error. Adding to the PATH is powerful, even if you're executing a command from a created or default batch file, adding its parent execution file to the PATH variable makes it callable from the terminal as well."
   ]
  },
  {
   "cell_type": "markdown",
   "id": "5fdc87ee-a982-4ecb-b1b6-5bb8dff90420",
   "metadata": {},
   "source": [
    "#### 16. Is indentation required in python?"
   ]
  },
  {
   "cell_type": "markdown",
   "id": "cbb287fe-1387-4971-b7a4-fd8b9ee1766b",
   "metadata": {},
   "source": [
    "yes in python it is mendetory to use indentation in place of bracket "
   ]
  },
  {
   "cell_type": "code",
   "execution_count": null,
   "id": "59165940-9884-494f-9ad7-c690f446342c",
   "metadata": {},
   "outputs": [],
   "source": []
  }
 ],
 "metadata": {
  "kernelspec": {
   "display_name": "Python 3 (ipykernel)",
   "language": "python",
   "name": "python3"
  },
  "language_info": {
   "codemirror_mode": {
    "name": "ipython",
    "version": 3
   },
   "file_extension": ".py",
   "mimetype": "text/x-python",
   "name": "python",
   "nbconvert_exporter": "python",
   "pygments_lexer": "ipython3",
   "version": "3.10.8"
  }
 },
 "nbformat": 4,
 "nbformat_minor": 5
}
