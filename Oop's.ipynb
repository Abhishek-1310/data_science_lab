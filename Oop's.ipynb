{
 "cells": [
  {
   "cell_type": "markdown",
   "id": "67705d78-2188-4fa4-b5a9-ed35664a9fbf",
   "metadata": {},
   "source": [
    "### Q1. Explain Class and Object with respect to Object-Oriented Programming. Give a suitable example.\n",
    "\n",
    "Ans:- Class is a blue print of methods and variables and it is not real word entity its just represent a group like dog \n",
    "dog is not real world entity its repersent the dog group (class does not occupy any memory)\n",
    "\n",
    "Object is a instance of class it is a real world entity like there are so many dog breads like pug, same as object it repersent \n",
    "the specific breads which exist(object occupy memory )"
   ]
  },
  {
   "cell_type": "code",
   "execution_count": 3,
   "id": "1f33af0c-281f-40c9-bc9b-6934cd79b75c",
   "metadata": {},
   "outputs": [
    {
     "name": "stdout",
     "output_type": "stream",
     "text": [
      "welcome :Abhishek sir Good Morning\n"
     ]
    }
   ],
   "source": [
    "\n",
    "class Abhi:\n",
    "    \n",
    "    def __init__(self,name):\n",
    "        self.name=name\n",
    "        \n",
    "    def welcome(self):\n",
    "        print(f\"welcome :{self.name} sir Good Morning\")\n",
    "    \n",
    "\n",
    "abhi=Abhi(\"Abhishek\")\n",
    "abhi.welcome()"
   ]
  },
  {
   "cell_type": "markdown",
   "id": "2d6e5e83-6b5b-4835-992d-17b50717c375",
   "metadata": {},
   "source": [
    "### Q2. Name the four pillars of OOPs.\n",
    "\n",
    "Ans:- main four pillars of OOPs are \n",
    "1) Encapsulation\n",
    "2) Inheritance\n",
    "3)polymorphism\n",
    "4)abstraction"
   ]
  },
  {
   "cell_type": "markdown",
   "id": "b6675e64-1c15-44d2-96db-59603d79421b",
   "metadata": {},
   "source": [
    "1) Encapsulation:- this is a mechanism through which we can bind the data as a single unit and through this we can achive data seurity\n",
    "\n",
    "2) Inheritance:- is one of the propetry in oops through one class  can inherite the data and properties  from other class also called\n",
    " parent class inheritance is used for code reusability\n",
    ".inheritance have 5 types\n",
    "->multiple, multilevel, hybrid, hierarchical, single inheritance\n",
    "\n",
    "3) polymorphism:- is one of the oops properties its mean that many means poly form means morphism mean we can do one activities in \n",
    "different form is called polymorphism, and it is genrally use for code reusability\n",
    ". two types of polymorphism\n",
    "->method overriding( runtime polymorphism), method overloding(compile time polymorphism)\n",
    "\n",
    "4) abstraction:- is a also a properties of oops in which we are hidding the non relevent data from the users and showing only essential\n",
    "data is called abstraction, abstration is used for data security"
   ]
  },
  {
   "cell_type": "markdown",
   "id": "31e72a25-ebe0-4d6a-b452-8dcd5d67267a",
   "metadata": {},
   "source": [
    "### Q3. Explain why the __init__() function is used. Give a suitable example.\n",
    "\n",
    "Ans :- __init__() function is a constructor in python which is genrally used for initialising the object through which we can make \n",
    "n number of different object"
   ]
  },
  {
   "cell_type": "code",
   "execution_count": 6,
   "id": "5a2fd227-17c0-4dbb-ae49-4762aa7959e2",
   "metadata": {},
   "outputs": [],
   "source": [
    "class Abhi1:\n",
    "    def __init__(self,name,mail,phoneNo):\n",
    "        self.name=name\n",
    "        self.mail=mail\n",
    "        self.phoneNo=phoneNo\n",
    "    def showDetails(self):\n",
    "        return self.name,self.mail,self.phoneNo"
   ]
  },
  {
   "cell_type": "code",
   "execution_count": 7,
   "id": "c49120e9-b3fc-42ea-91ad-6a29f48a6fc1",
   "metadata": {},
   "outputs": [
    {
     "data": {
      "text/plain": [
       "('Abhishek', 'Abhi@gmail.com', 6205251243)"
      ]
     },
     "execution_count": 7,
     "metadata": {},
     "output_type": "execute_result"
    }
   ],
   "source": [
    "obj1=Abhi1(\"Abhishek\",\"Abhi@gmail.com\",6205251243)\n",
    "obj1.showDetails()"
   ]
  },
  {
   "cell_type": "markdown",
   "id": "1171f3c2-3fcd-4607-8738-db1479e69691",
   "metadata": {},
   "source": [
    "### Q4. Why self is used in OOPs?\n"
   ]
  },
  {
   "cell_type": "markdown",
   "id": "1fa87a31-09ce-4cca-900c-2b9ab426ff67",
   "metadata": {},
   "source": [
    "self is not a keyword it is a parameter which is used to access to the attribute and methods of the class within its own method or outside also\n",
    "and it is used to refer to the instance of variables and also allowing you to modify or retrive its data \"and important thing is we can use \n",
    "other name also in place of self\""
   ]
  },
  {
   "cell_type": "markdown",
   "id": "9c412a33-996a-4144-a000-f853fa90f41f",
   "metadata": {},
   "source": [
    "### Q5. What is inheritance? Give an example for each type of inheritance.\n",
    "\n",
    "Ans:-Inheritance:- is one of the propetry in oops through one class can inherite the data and properties from other class also called parent\n",
    "class inheritance is used for code reusability .inheritance have 5 types ->multiple, multilevel, hybrid, hierarchical, single inheritance"
   ]
  },
  {
   "cell_type": "code",
   "execution_count": 7,
   "id": "1a0b5240-4da2-43de-832d-1ae8a507d61c",
   "metadata": {},
   "outputs": [],
   "source": [
    "class Vehical:\n",
    "    def __init__(self, name, color):\n",
    "        self.name=name\n",
    "        self.color=color\n",
    "    def show_info(self):\n",
    "        print(f\"vehical name is :-{self.name} and color is :-{self.color}\")\n",
    "        \n",
    "class Car(Vehical):\n",
    "    def __init__(self, name, color, model):\n",
    "        super().__init__(name,color)\n",
    "        self.model=model\n",
    "    def show_info(self):\n",
    "        super().show_info()\n",
    "        print(f\"Model is :-{self.model}\")"
   ]
  },
  {
   "cell_type": "code",
   "execution_count": 8,
   "id": "2b464ad4-7522-4f65-985a-8d1640bd42b7",
   "metadata": {},
   "outputs": [
    {
     "name": "stdout",
     "output_type": "stream",
     "text": [
      "vehical name is :-Audi and color is :-black\n"
     ]
    }
   ],
   "source": [
    "vehical=Vehical(\"Audi\",\"black\")\n",
    "vehical.show_info()"
   ]
  },
  {
   "cell_type": "code",
   "execution_count": 9,
   "id": "c058990b-46fb-455b-9f2a-c5ebc6e64ba9",
   "metadata": {},
   "outputs": [
    {
     "name": "stdout",
     "output_type": "stream",
     "text": [
      "vehical name is :-Audi and color is :-black\n",
      "Model is :-A31S\n"
     ]
    }
   ],
   "source": [
    "car=Car(\"Audi\",\"black\",\"A31S\")\n",
    "car.show_info()"
   ]
  },
  {
   "cell_type": "code",
   "execution_count": null,
   "id": "ffcb42cb-6d2a-4361-aee2-7f0cd2974976",
   "metadata": {},
   "outputs": [],
   "source": []
  }
 ],
 "metadata": {
  "kernelspec": {
   "display_name": "Python 3 (ipykernel)",
   "language": "python",
   "name": "python3"
  },
  "language_info": {
   "codemirror_mode": {
    "name": "ipython",
    "version": 3
   },
   "file_extension": ".py",
   "mimetype": "text/x-python",
   "name": "python",
   "nbconvert_exporter": "python",
   "pygments_lexer": "ipython3",
   "version": "3.10.8"
  }
 },
 "nbformat": 4,
 "nbformat_minor": 5
}
