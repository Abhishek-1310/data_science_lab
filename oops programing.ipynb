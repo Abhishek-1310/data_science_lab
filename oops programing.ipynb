{
 "cells": [
  {
   "cell_type": "code",
   "execution_count": null,
   "id": "2c5ef938-9898-4a09-afd0-a0791f37a71f",
   "metadata": {},
   "outputs": [],
   "source": [
    "Q1, Create a vehicle class with an init method having instance variables as name_of_vehicle, max_speed\n",
    "and average_of_vehicle.\n"
   ]
  },
  {
   "cell_type": "code",
   "execution_count": 1,
   "id": "9cabd4b5-5b3b-401e-8e77-7d2030977ea3",
   "metadata": {},
   "outputs": [],
   "source": [
    "class Vehicle:\n",
    "    def __init__(self,name_of_vehicle,max_speed,average_of_vehicle):\n",
    "        self.name_of_vehicle=name_of_vehicle\n",
    "        self.max_speed=max_speed\n",
    "        self.average_of_vehicle=average_of_vehicle"
   ]
  },
  {
   "cell_type": "code",
   "execution_count": null,
   "id": "a474cd84-d291-4854-80b2-64a214daff00",
   "metadata": {},
   "outputs": [],
   "source": [
    "Q2. Create a child class car from the vehicle class created in Que 1, which will inherit the vehicle class.\n",
    "Create a method named seating_capacity which takes capacity as an argument and returns the name of\n",
    "the vehicle and its seating capacity.\n"
   ]
  },
  {
   "cell_type": "code",
   "execution_count": 2,
   "id": "ee6f9e37-f576-4ead-9208-7bef8a250f32",
   "metadata": {},
   "outputs": [
    {
     "name": "stdout",
     "output_type": "stream",
     "text": [
      "Toyota has a capacity of 6 seats\n"
     ]
    }
   ],
   "source": [
    "class car(Vehicle):\n",
    "    def __init__(self,name_of_vehicle,max_speed,average_of_vehicle):\n",
    "        super().__init__(name_of_vehicle,max_speed,average_of_vehicle)\n",
    "    def seating_capacity(self,capacity):\n",
    "        return f\"{self.name_of_vehicle} has a capacity of {capacity} seats\"\n",
    "    \n",
    "car1=car(\"Toyota\",150,35)\n",
    "print(car1.seating_capacity(6))\n",
    "        "
   ]
  },
  {
   "cell_type": "code",
   "execution_count": null,
   "id": "2b7b66f2-b3f9-466f-9988-7f8e9f79a619",
   "metadata": {},
   "outputs": [],
   "source": [
    "Q3. What is multiple inheritance? Write a python code to demonstrate multiple inheritance.\n",
    "\n",
    "Ans:-multiple inheritance is one of the type of inheritance in which there are two parent and one child which inherit the properties of both paraent class"
   ]
  },
  {
   "cell_type": "code",
   "execution_count": 1,
   "id": "c3ce6112-f7d2-417e-8a28-03accf759146",
   "metadata": {},
   "outputs": [],
   "source": [
    "class papa:\n",
    "    def strength(self):\n",
    "        print(\"child take strength from papa class\")\n",
    "    def height(self):\n",
    "        print(\"child take the height property from papa class\")\n",
    "class mummy:\n",
    "    def look(self):\n",
    "        print(\"child take look properties from mummy\")"
   ]
  },
  {
   "cell_type": "code",
   "execution_count": 3,
   "id": "e07f8926-4e8c-4de3-87a2-50975c4f8399",
   "metadata": {},
   "outputs": [
    {
     "name": "stdout",
     "output_type": "stream",
     "text": [
      "child take the height property from papa class\n"
     ]
    }
   ],
   "source": [
    "class child(papa,mummy):\n",
    "    pass\n",
    "child1=child()\n",
    "child1.height()"
   ]
  },
  {
   "cell_type": "code",
   "execution_count": 4,
   "id": "b2e2c319-482d-4ef3-acac-d6458e3089ff",
   "metadata": {},
   "outputs": [
    {
     "name": "stdout",
     "output_type": "stream",
     "text": [
      "child take look properties from mummy\n"
     ]
    }
   ],
   "source": [
    "child1.look()"
   ]
  },
  {
   "cell_type": "markdown",
   "id": "32218cab-9aa0-4933-8db1-385067c5e50d",
   "metadata": {},
   "source": [
    "#### Q4. What are getter and setter in python? Create a class and create a getter and a setter method in this\n",
    "class.\n",
    "Ans:- getter and setter is used to access private data if you make private data you can't access outside class so you have make getter and setter for access that data "
   ]
  },
  {
   "cell_type": "code",
   "execution_count": 5,
   "id": "7306e683-866a-457c-9f38-d4c81d526440",
   "metadata": {},
   "outputs": [],
   "source": [
    "class Vechical:\n",
    "    def __init__(self,name,seat,model):\n",
    "        self.__name=name\n",
    "        self.__seat=seat\n",
    "        self.__model=model\n",
    "    def getName(self):\n",
    "        return self.__name\n",
    "    def getSeat(self):\n",
    "        return self.__seat\n",
    "    def getModel(self):\n",
    "        return self.__model\n",
    "    def setName(self,name):\n",
    "        self.__name=name\n",
    "    def setSeat(self,seat):\n",
    "        self.__seat=seat\n",
    "    def setModel(self,model):\n",
    "        self.__model=model"
   ]
  },
  {
   "cell_type": "code",
   "execution_count": 6,
   "id": "d6d747c3-d8fe-4be1-b891-566fb4709304",
   "metadata": {},
   "outputs": [
    {
     "data": {
      "text/plain": [
       "'BMW'"
      ]
     },
     "execution_count": 6,
     "metadata": {},
     "output_type": "execute_result"
    }
   ],
   "source": [
    "car1=Vechical(\"BMW\",2,\"BM320\")\n",
    "car1.getName()"
   ]
  },
  {
   "cell_type": "code",
   "execution_count": 7,
   "id": "85fad7d9-98d4-49ad-9e3f-1a2724e8ee05",
   "metadata": {},
   "outputs": [
    {
     "data": {
      "text/plain": [
       "'BWM'"
      ]
     },
     "execution_count": 7,
     "metadata": {},
     "output_type": "execute_result"
    }
   ],
   "source": [
    "car1.setName(\"BWM\")\n",
    "car1.getName()"
   ]
  },
  {
   "cell_type": "code",
   "execution_count": null,
   "id": "7eb4e701-c87a-4fad-95e6-e12f4336ed7d",
   "metadata": {},
   "outputs": [],
   "source": [
    "Q5.What is method overriding in python? Write a python code to demonstrate method overriding."
   ]
  },
  {
   "cell_type": "markdown",
   "id": "cdf21c30-b984-4fea-9bdc-4d9e212bc61b",
   "metadata": {},
   "source": [
    "method overriding is a type of polymorphism it is also know as runtime polymorphism and when two method have same name and same argument but in different class is know as method overriding "
   ]
  },
  {
   "cell_type": "code",
   "execution_count": 9,
   "id": "da9a814a-06e8-4404-862e-f2f57aea3207",
   "metadata": {},
   "outputs": [],
   "source": [
    "class Vehical:\n",
    "    def types(self):\n",
    "        print(\"4 tyer vehical it is\")\n",
    "    def model(self):\n",
    "        print(\"model is __xu1\")\n",
    "class car(Vehical):\n",
    "    def types(self):\n",
    "        print(\"this is :=BMW 4 wheller\")\n",
    "    def model(self):\n",
    "        print(\"model is :-BMWxu1\")\n",
    "    "
   ]
  },
  {
   "cell_type": "code",
   "execution_count": 10,
   "id": "573d1a2e-5b99-41d0-930e-9860354560f1",
   "metadata": {},
   "outputs": [],
   "source": [
    "vehic=Vehical()\n",
    "car1=car()"
   ]
  },
  {
   "cell_type": "code",
   "execution_count": 12,
   "id": "c4216456-3c18-4544-a6c0-52f67b012d5f",
   "metadata": {},
   "outputs": [
    {
     "name": "stdout",
     "output_type": "stream",
     "text": [
      "4 tyer vehical it is\n"
     ]
    }
   ],
   "source": [
    "vehic.types()"
   ]
  },
  {
   "cell_type": "code",
   "execution_count": 13,
   "id": "276fc8fd-ce65-4655-ba26-54ac56d65fa4",
   "metadata": {},
   "outputs": [
    {
     "name": "stdout",
     "output_type": "stream",
     "text": [
      "this is :=BMW 4 wheller\n"
     ]
    }
   ],
   "source": [
    "car1.types()"
   ]
  },
  {
   "cell_type": "code",
   "execution_count": null,
   "id": "60795d42-78c6-4969-82a3-781ac08903bd",
   "metadata": {},
   "outputs": [],
   "source": []
  }
 ],
 "metadata": {
  "kernelspec": {
   "display_name": "Python 3 (ipykernel)",
   "language": "python",
   "name": "python3"
  },
  "language_info": {
   "codemirror_mode": {
    "name": "ipython",
    "version": 3
   },
   "file_extension": ".py",
   "mimetype": "text/x-python",
   "name": "python",
   "nbconvert_exporter": "python",
   "pygments_lexer": "ipython3",
   "version": "3.10.8"
  }
 },
 "nbformat": 4,
 "nbformat_minor": 5
}
