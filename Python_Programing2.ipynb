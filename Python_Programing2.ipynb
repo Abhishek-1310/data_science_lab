{
 "cells": [
  {
   "cell_type": "markdown",
   "id": "3b6d3b89-60d7-4c1d-8cbc-24c8e3b1803b",
   "metadata": {},
   "source": [
    "#### Q1. You are writing code for a company. The requirement of the company is that you create a python function that will check whether the password entered by the user is correct or not. The function should take the password as input and return the string “Valid Password” if the entered password follows the below-given password guidelines else it should return “Invalid Password”. \n",
    "1. The Password should contain at least two uppercase letters and at least two lowercase letters.\n",
    "2. The Password should contain at least a number and three special characters.\n",
    "3. The length of the password should be 10 characters long.\n",
    "\n"
   ]
  },
  {
   "cell_type": "code",
   "execution_count": 10,
   "id": "c2392c67-25aa-441f-b039-e6261c872c2f",
   "metadata": {},
   "outputs": [],
   "source": [
    "def valid(passd):\n",
    "    upper_char=0\n",
    "    lower_char=0\n",
    "    special_char=0\n",
    "    spcl=['!','@','#','$','%','&','*','^']\n",
    "    for i in passd:\n",
    "        if i.isupper():\n",
    "            upper_char+=1\n",
    "        if i.islower():\n",
    "            lower_char+=1\n",
    "        if i in spcl:\n",
    "            special_char+=1\n",
    "    if len(passd)==10 or passd.isalnum():\n",
    "        if upper_char>=2 or lower_char>=2 or special_char>=3:\n",
    "            return \"Valid Password\"\n",
    "        else:\n",
    "            return \"Invalid Password\"\n",
    "    return \"Invalid Password\""
   ]
  },
  {
   "cell_type": "code",
   "execution_count": 12,
   "id": "a3e669b5-a4b6-498f-9dbd-96c240939715",
   "metadata": {},
   "outputs": [
    {
     "name": "stdin",
     "output_type": "stream",
     "text": [
      "Enter your password AbhiS@#123\n"
     ]
    },
    {
     "name": "stdout",
     "output_type": "stream",
     "text": [
      "Valid Password\n"
     ]
    }
   ],
   "source": [
    "passd=str(input(\"Enter your password\"))\n",
    "res=valid(passd)\n",
    "print(res)"
   ]
  },
  {
   "cell_type": "code",
   "execution_count": null,
   "id": "6ed65f6c-c228-4f3f-9b3d-560a96180ac4",
   "metadata": {},
   "outputs": [],
   "source": [
    "Q2. Solve the below-given questions using at least one of the following:\n",
    "1. Lambda function\n",
    "2. Filter function\n",
    "3. Map function\n",
    "4. List Comprehension\n",
    "B Check if the string starts with a particular letter.\n",
    "B Check if the string is numeric.\n",
    "B Sort a list of tuples having fruit names and their quantity. [(\"mango\",99),(\"orange\",80), (\"grapes\", 1000)]-\n",
    "B Find the squares of numbers from 1 to 10.\n",
    "B Find the cube root of numbers from 1 to 10.\n",
    "B Check if a given number is even.\n",
    "B Filter odd numbers from the given list.\n",
    "[1,2,3,4,5,6,7,8,9,10]\n",
    "B Sort a list of integers into positive and negative integers lists.\n",
    "[1,2,3,4,5,6,-1,-2,-3,-4,-5,0]"
   ]
  },
  {
   "cell_type": "code",
   "execution_count": 22,
   "id": "249c84f4-d6d8-4e82-b429-d0f488a3292a",
   "metadata": {},
   "outputs": [
    {
     "name": "stdout",
     "output_type": "stream",
     "text": [
      "True\n"
     ]
    }
   ],
   "source": [
    "strs=\"Abhi\"\n",
    "start=lambda s:s.startswith('A')\n",
    "print(start(strs))"
   ]
  },
  {
   "cell_type": "code",
   "execution_count": 25,
   "id": "507da506-c35a-4957-8329-57187498d788",
   "metadata": {},
   "outputs": [
    {
     "name": "stdout",
     "output_type": "stream",
     "text": [
      "False\n"
     ]
    }
   ],
   "source": [
    "strs1=\"1234A\"\n",
    "start1=lambda s:s.isdigit()\n",
    "print(start1(strs1))\n"
   ]
  },
  {
   "cell_type": "code",
   "execution_count": 28,
   "id": "a83667b1-cd20-4f51-b1db-c0926a118fc4",
   "metadata": {},
   "outputs": [
    {
     "name": "stdout",
     "output_type": "stream",
     "text": [
      "[('grapes', 1000), ('mango', 99), ('orange', 80)]\n"
     ]
    }
   ],
   "source": [
    "lst=[(\"mango\",99),(\"orange\",80), (\"grapes\", 1000)]\n",
    "res=[x for x in sorted(lst, key=lambda x:x[0])]\n",
    "print(res)"
   ]
  },
  {
   "cell_type": "code",
   "execution_count": 29,
   "id": "a96075b6-659a-4b43-b497-9d0456665698",
   "metadata": {},
   "outputs": [
    {
     "name": "stdout",
     "output_type": "stream",
     "text": [
      "[1, 4, 9, 16, 25, 36, 49, 64, 81, 100]\n"
     ]
    }
   ],
   "source": [
    "lst1=[x**2 for x in range(1,11)]\n",
    "print(lst1)"
   ]
  },
  {
   "cell_type": "code",
   "execution_count": 31,
   "id": "be4fc884-d5a2-414b-81c8-b3d569dd8f5c",
   "metadata": {},
   "outputs": [
    {
     "name": "stdout",
     "output_type": "stream",
     "text": [
      "[1.0, 1.2599210498948732, 1.4422495703074083, 1.5874010519681994, 1.7099759466766968, 1.8171205928321397, 1.912931182772389, 2.0, 2.080083823051904, 2.154434690031884]\n"
     ]
    }
   ],
   "source": [
    "lst2=[x**(1/3) for x in range(1,11)]\n",
    "print(lst2)"
   ]
  },
  {
   "cell_type": "code",
   "execution_count": 38,
   "id": "98ef5e42-c43a-4f25-a238-b9e3086642d6",
   "metadata": {},
   "outputs": [
    {
     "name": "stdout",
     "output_type": "stream",
     "text": [
      "True\n"
     ]
    }
   ],
   "source": [
    "num=12\n",
    "ans1=lambda x:x%2==0\n",
    "print(ans1(num))"
   ]
  },
  {
   "cell_type": "code",
   "execution_count": 39,
   "id": "8aba6800-664c-4139-8fc6-06c297789d96",
   "metadata": {},
   "outputs": [
    {
     "name": "stdout",
     "output_type": "stream",
     "text": [
      "[1, 3, 5, 7, 9]\n"
     ]
    }
   ],
   "source": [
    "l1=[1,2,3,4,5,6,7,8,9,10]\n",
    "ans2=list(filter(lambda x:x%2!=0,l1))\n",
    "print(ans2)"
   ]
  },
  {
   "cell_type": "code",
   "execution_count": 49,
   "id": "4e5596ad-9129-4cf8-9581-2ffa00c095b2",
   "metadata": {},
   "outputs": [],
   "source": [
    "l2=[1,2,3,4,5,6,-1,-2,-3,-4,-5,0]\n",
    "ans3=sorted(filter(lambda x:x>=0,l2))\n",
    "ans4=sorted(filter(lambda x:x<0,l2))\n",
    "# ans4=[x ]"
   ]
  },
  {
   "cell_type": "code",
   "execution_count": 50,
   "id": "6fb54c1a-92bf-4013-ac9e-aaefb99e6b8a",
   "metadata": {},
   "outputs": [
    {
     "name": "stdout",
     "output_type": "stream",
     "text": [
      "[0, 1, 2, 3, 4, 5, 6]\n"
     ]
    }
   ],
   "source": [
    "print(ans3)"
   ]
  },
  {
   "cell_type": "code",
   "execution_count": 51,
   "id": "de7d6d27-3e83-4bfd-b887-ad08382d43ed",
   "metadata": {},
   "outputs": [
    {
     "name": "stdout",
     "output_type": "stream",
     "text": [
      "[-5, -4, -3, -2, -1]\n"
     ]
    }
   ],
   "source": [
    "print(ans4)"
   ]
  },
  {
   "cell_type": "code",
   "execution_count": null,
   "id": "b161e3df-4bfd-4502-92a0-1dc89291a77f",
   "metadata": {},
   "outputs": [],
   "source": []
  }
 ],
 "metadata": {
  "kernelspec": {
   "display_name": "Python 3 (ipykernel)",
   "language": "python",
   "name": "python3"
  },
  "language_info": {
   "codemirror_mode": {
    "name": "ipython",
    "version": 3
   },
   "file_extension": ".py",
   "mimetype": "text/x-python",
   "name": "python",
   "nbconvert_exporter": "python",
   "pygments_lexer": "ipython3",
   "version": "3.10.8"
  }
 },
 "nbformat": 4,
 "nbformat_minor": 5
}
