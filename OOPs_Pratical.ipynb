{
 "cells": [
  {
   "cell_type": "markdown",
   "id": "17938d63-38b6-4142-b8cf-2338b0c44539",
   "metadata": {},
   "source": [
    "#### Q1. What is Abstraction in OOps? Explain with an example.\n",
    "\n",
    "Ans:- Abstraction is oops properties in which we have to hide the non essential data from the user and show only relevent data"
   ]
  },
  {
   "cell_type": "code",
   "execution_count": 6,
   "id": "1a4dc88e-5d13-42a1-842f-8a7d6a9224d2",
   "metadata": {},
   "outputs": [],
   "source": [
    "import abc\n",
    "class Calculator:\n",
    "    @abc.abstractmethod\n",
    "    def call_sub_sum(self,a,b):\n",
    "        pass\n",
    "    @abc.abstractmethod\n",
    "    def call_mul_div(self,a,b):\n",
    "        pass\n",
    "        "
   ]
  },
  {
   "cell_type": "code",
   "execution_count": 7,
   "id": "596ef836-235c-4239-a019-84f9a3bb9cb1",
   "metadata": {},
   "outputs": [],
   "source": [
    "class student(Calculator):\n",
    "    def call_sub_sum(self,a,b):\n",
    "        return a+b\n",
    "    def call_mul_div(self,a,b):\n",
    "        return a*b\n",
    "    "
   ]
  },
  {
   "cell_type": "code",
   "execution_count": 8,
   "id": "e0086c5c-1511-44d8-9462-55399e8ad6d2",
   "metadata": {},
   "outputs": [],
   "source": [
    "class stud(Calculator):\n",
    "    def call_sub_sum(self,a,b):\n",
    "        return a-b\n",
    "    def call_mul_div(self,a,b):\n",
    "        return a/b"
   ]
  },
  {
   "cell_type": "code",
   "execution_count": 11,
   "id": "86a39ea6-4d5e-4d1e-a12e-cc077f039deb",
   "metadata": {},
   "outputs": [
    {
     "data": {
      "text/plain": [
       "12"
      ]
     },
     "execution_count": 11,
     "metadata": {},
     "output_type": "execute_result"
    }
   ],
   "source": [
    "students=student()\n",
    "students.call_sub_sum(4,8)"
   ]
  },
  {
   "cell_type": "code",
   "execution_count": 12,
   "id": "b2a8d604-cfbd-44c1-be68-be9d051ce55e",
   "metadata": {},
   "outputs": [
    {
     "data": {
      "text/plain": [
       "32"
      ]
     },
     "execution_count": 12,
     "metadata": {},
     "output_type": "execute_result"
    }
   ],
   "source": [
    "students.call_mul_div(4,8)"
   ]
  },
  {
   "cell_type": "code",
   "execution_count": 13,
   "id": "0d96ba73-a352-4e9d-ab88-b419c574bbd9",
   "metadata": {},
   "outputs": [
    {
     "data": {
      "text/plain": [
       "6"
      ]
     },
     "execution_count": 13,
     "metadata": {},
     "output_type": "execute_result"
    }
   ],
   "source": [
    "studs=stud()\n",
    "studs.call_sub_sum(14,8)"
   ]
  },
  {
   "cell_type": "code",
   "execution_count": 14,
   "id": "dafbcf38-3e50-4e6e-b84b-ea8da4d1a7d8",
   "metadata": {},
   "outputs": [
    {
     "data": {
      "text/plain": [
       "2.0"
      ]
     },
     "execution_count": 14,
     "metadata": {},
     "output_type": "execute_result"
    }
   ],
   "source": [
    "studs.call_mul_div(16,8)"
   ]
  },
  {
   "cell_type": "markdown",
   "id": "9d8dc690-163d-44a5-afe8-ff474da7cb96",
   "metadata": {},
   "source": [
    "### Q2. Differentiate between Abstraction and Encapsulation. Explain with an example.\n",
    "Ans:-Abstraction is a oops properties in which we hide the non relevent data from user and show only essential information abstraction is genrally used for code resusiblity\n",
    "\n",
    "Encapsulation is a oops properties in which we bind the data as a single unit and encapsulation is genrally used for data security you can access data directly"
   ]
  },
  {
   "cell_type": "code",
   "execution_count": 16,
   "id": "cb2d5fe9-4c12-435b-8168-81df18ef0bf9",
   "metadata": {},
   "outputs": [],
   "source": [
    "# Abstraction\n",
    "import abc\n",
    "class company:\n",
    "    @abc.abstractmethod\n",
    "    def stud_id(self):\n",
    "        pass\n",
    "    @abc.abstractmethod\n",
    "    def stud_name(self):\n",
    "        pass"
   ]
  },
  {
   "cell_type": "code",
   "execution_count": 18,
   "id": "0e26fa36-5143-453b-a789-63009838f2eb",
   "metadata": {},
   "outputs": [],
   "source": [
    "class abhishek(company):\n",
    "    def stud_id(self):\n",
    "        print(\"employee id:-101\")\n",
    "    def stud_name(self):\n",
    "        print(\"employee name:-Abhishek ky\")\n",
    "    "
   ]
  },
  {
   "cell_type": "code",
   "execution_count": 19,
   "id": "41882d49-8068-49a9-a19a-384c155682be",
   "metadata": {},
   "outputs": [
    {
     "name": "stdout",
     "output_type": "stream",
     "text": [
      "employee id:-101\n"
     ]
    }
   ],
   "source": [
    "abhi=abhishek()\n",
    "abhi.stud_id()"
   ]
  },
  {
   "cell_type": "code",
   "execution_count": 20,
   "id": "fa19fed3-4181-4c76-a9b8-7aa915850035",
   "metadata": {},
   "outputs": [
    {
     "name": "stdout",
     "output_type": "stream",
     "text": [
      "employee name:-Abhishek ky\n"
     ]
    }
   ],
   "source": [
    "abhi.stud_name()"
   ]
  },
  {
   "cell_type": "code",
   "execution_count": 29,
   "id": "6a92cdc7-8b77-45b6-9daa-207bf47f70b2",
   "metadata": {},
   "outputs": [],
   "source": [
    "#Encapsulation\n",
    "class school:\n",
    "    def __init__(self,name,roll):\n",
    "        self.__name=name\n",
    "        self.__roll=roll\n",
    "    def get_name(self):\n",
    "        return self.__name\n",
    "    def get_roll(self):\n",
    "        return self.__roll\n",
    "        "
   ]
  },
  {
   "cell_type": "code",
   "execution_count": 27,
   "id": "3aed3adc-44f9-4443-a7e1-2f9b6229ad97",
   "metadata": {},
   "outputs": [
    {
     "data": {
      "text/plain": [
       "'Abhishek'"
      ]
     },
     "execution_count": 27,
     "metadata": {},
     "output_type": "execute_result"
    }
   ],
   "source": [
    "sch=school(\"Abhishek\",1)\n",
    "sch.get_name()"
   ]
  },
  {
   "cell_type": "code",
   "execution_count": 28,
   "id": "ddc1a9e4-3546-4852-9c83-a28ac68c5a88",
   "metadata": {},
   "outputs": [
    {
     "data": {
      "text/plain": [
       "1"
      ]
     },
     "execution_count": 28,
     "metadata": {},
     "output_type": "execute_result"
    }
   ],
   "source": [
    "sch.get_roll()"
   ]
  },
  {
   "cell_type": "markdown",
   "id": "61adf8b0-7287-4fa2-8b93-bbbcb6208937",
   "metadata": {},
   "source": [
    "#### Q3. What is abc module in python? Why is it used?"
   ]
  },
  {
   "cell_type": "markdown",
   "id": "9c7c3efe-97e4-4385-96bd-ba82924a34a8",
   "metadata": {},
   "source": [
    "abc is stand for Abstract Base Class in python it is a module which is used to access and  we can use abstract method through which we can make method abstract and we can achive abstration with this when we import abc module then we the help of @abc we can use abtractmethod"
   ]
  },
  {
   "cell_type": "markdown",
   "id": "6f6e1aae-28d4-4315-9e31-d114b8088fea",
   "metadata": {},
   "source": [
    "#### Q4. How can we achieve data abstraction?"
   ]
  },
  {
   "cell_type": "markdown",
   "id": "8147b96c-fb88-4e87-b454-6666bcb3c185",
   "metadata": {},
   "source": [
    "we can achive data abstraction with the help of abstractmethod annotation we can use this annotation with help of @abc. and we can use @abc when we import abc module with the help abstractmethod we can make mathod abstract then implement in different in diffrent class"
   ]
  },
  {
   "cell_type": "markdown",
   "id": "4819d018-4348-41cf-9adb-16d62d454cce",
   "metadata": {},
   "source": [
    "#### Q5. Can we create an instance of an abstract class? Explain your answer."
   ]
  },
  {
   "cell_type": "markdown",
   "id": "3f734af0-0c57-49d4-bd70-7b60535801e1",
   "metadata": {},
   "source": [
    "no we can create instance of abstract class because there is no implementat there so no use of making a instance of a abstract class butyou make instance of subclass which contain the implementation of abstract method"
   ]
  }
 ],
 "metadata": {
  "kernelspec": {
   "display_name": "Python 3 (ipykernel)",
   "language": "python",
   "name": "python3"
  },
  "language_info": {
   "codemirror_mode": {
    "name": "ipython",
    "version": 3
   },
   "file_extension": ".py",
   "mimetype": "text/x-python",
   "name": "python",
   "nbconvert_exporter": "python",
   "pygments_lexer": "ipython3",
   "version": "3.10.8"
  }
 },
 "nbformat": 4,
 "nbformat_minor": 5
}
