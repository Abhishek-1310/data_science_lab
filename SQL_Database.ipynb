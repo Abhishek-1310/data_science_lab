{
 "cells": [
  {
   "cell_type": "markdown",
   "id": "13d3ff92-3023-447b-830b-5849965f0b31",
   "metadata": {},
   "source": [
    "#### Q1. What is a database? Differentiate between SQL and NoSQL databases."
   ]
  },
  {
   "cell_type": "markdown",
   "id": "d8655ab4-832c-4fd5-8ba9-3dbe5c1afa91",
   "metadata": {},
   "source": [
    "A database is a structured collection of data that is organized and stored in a way that allows efficient retrieval, updating, and management of data. Databases are used to store and manage various types of information, from simple lists to complex data structures. They play a crucial role in modern software applications, enabling data storage, retrieval, and manipulation.\n",
    "\n",
    "SQL databases and NoSQL databases. Let's differentiate between the two:\n",
    "\n",
    "SQL stands for Structured Query Language. SQL databases are also known as relational databases because they store data in tables with predefined columns and data types. Each row in the table represents a record, and each column represents a specific attribute of that record. SQL databases follow a fixed schema, which means the structure of the database is defined in advance, and all records must adhere to that structure.\n",
    "\n",
    "NoSQL databases, as the name suggests, do not use SQL for data manipulation. They are non-relational databases designed to handle unstructured or semi-structured data and are more flexible in terms of schema. NoSQL databases utilize various data models, such as key-value stores, document stores, column-family stores, and graph databases, to store and manage data."
   ]
  },
  {
   "cell_type": "markdown",
   "id": "271c5b1b-f512-438b-8fc4-048cae18dffc",
   "metadata": {},
   "source": [
    "#### Q2. What is DDL? Explain why CREATE, DROP, ALTER, and TRUNCATE are used with an example.\n"
   ]
  },
  {
   "cell_type": "markdown",
   "id": "4b3bdb71-ec29-47ad-bcce-c65ff36dfcfc",
   "metadata": {},
   "source": [
    "DDL stands for Data Definition Language. It is a type of SQL (Structured Query Language) used for defining, managing, and modifying database structures. DDL commands allow you to create, modify, and delete database objects such as tables, indexes, and views. These commands do not manipulate the data itself but rather the structure and organization of the data.\n",
    "\n",
    "The CREATE command is used to create new database objects, such as tables, views, or indexes. It defines the structure and properties of the object being created. Here's an example of creating a simple table named \"Customers\":\n",
    "\n",
    "exmaple:-\n",
    "\n",
    "CREATE TABLE Customers (\n",
    "    customer_id INT PRIMARY KEY,\n",
    "    first_name VARCHAR(50),\n",
    "    last_name VARCHAR(50),\n",
    "    email VARCHAR(100)\n",
    ");\n",
    "\n",
    "\n",
    "The DROP command is used to remove database objects such as tables, views, or indexes entirely from the database. Be cautious when using DROP as it irreversibly deletes the specified object. Here's an example of dropping the \"Customers\" table:\n",
    "\n",
    "exmaple:-\n",
    "\n",
    "DROP TABLE Customers;\n",
    "\n",
    "The ALTER command is used to modify the structure of an existing database object, such as adding or removing columns from a table or changing column definitions. Here's an example of adding a new column named \"phone_number\" to the \"Customers\" table:\n",
    "\n",
    "exmaple:-\n",
    "\n",
    "ALTER TABLE Customers\n",
    "ADD phone_number VARCHAR(20);\n",
    "\n",
    "The TRUNCATE command is used to remove all the data from a table, effectively resetting the table to its initial state. Unlike the DROP command, TRUNCATE does not delete the table structure, only the data. Here's an example of truncating the \"Customers\" table:\n",
    "\n",
    "exmaple:-\n",
    "\n",
    "TRUNCATE TABLE Customers;\n"
   ]
  },
  {
   "cell_type": "markdown",
   "id": "5fdeb2c6-1e3f-4f38-92de-34951892cf58",
   "metadata": {},
   "source": [
    "#### Q3. What is DML? Explain INSERT, UPDATE, and DELETE with an example."
   ]
  },
  {
   "cell_type": "markdown",
   "id": "cdfe9066-d077-4a27-98d7-6044ccbb752f",
   "metadata": {},
   "source": [
    "DML stands for Data Manipulation Language. It is a subset of SQL (Structured Query Language) used to interact with the data stored in a database. DML commands are used to insert, update, and delete data in database tables.\n",
    "\n",
    "INSERT:\n",
    "The INSERT command is used to add new rows (records) into a database table. It allows you to specify the values for each column in the table for the new row. Here's an example of inserting a new record into the \"Customers\" table:\n",
    "\n",
    "example:-\n",
    "\n",
    "INSERT INTO Customers (customer_id, first_name, last_name, email, phone_number)\n",
    "VALUES (1, 'John', 'Doe', 'john.doe@example.com', '123-456-7890');\n",
    "\n",
    "UPDATE:\n",
    "The UPDATE command is used to modify existing records in a database table. It allows you to change the values of one or more columns in the table based on specified conditions. Here's an example of updating the phone number for a specific customer in the \"Customers\" table:\n",
    "\n",
    "example:-\n",
    "\n",
    "UPDATE Customers\n",
    "SET phone_number = '987-654-3210'\n",
    "WHERE customer_id = 1;\n",
    "\n",
    "DELETE:\n",
    "The DELETE command is used to remove one or more rows (records) from a database table based on specified conditions. Be cautious when using DELETE, as it permanently removes data from the table. Here's an example of deleting a customer record from the \"Customers\" table:\n",
    "\n",
    "example:-\n",
    "\n",
    "DELETE FROM Customers\n",
    "WHERE customer_id = 1;"
   ]
  },
  {
   "cell_type": "markdown",
   "id": "b8e92364-c15a-4263-91ee-276868c7454e",
   "metadata": {},
   "source": [
    "#### Q4. What is DQL? Explain SELECT with an example."
   ]
  },
  {
   "cell_type": "markdown",
   "id": "45c18317-c6e1-4698-9f70-33ae110e6378",
   "metadata": {},
   "source": [
    "DQL stands for Data Query Language. It is a subset of SQL (Structured Query Language) used to retrieve and query data from a database. The primary DQL command is SELECT, which allows you to fetch data from one or more database tables based on specified criteria.\n",
    "\n",
    "example:-\n",
    "\n",
    "SELECT first_name, last_name, job_title\n",
    "FROM Employees\n",
    "WHERE salary > 50000;"
   ]
  },
  {
   "cell_type": "markdown",
   "id": "ed3e66ed-c44e-416b-b243-5484ef518ba8",
   "metadata": {},
   "source": [
    "#### Q5. Explain Primary Key and Foreign Key.\n"
   ]
  },
  {
   "cell_type": "markdown",
   "id": "0b5406ec-4f66-4ec3-a34e-37e1d5420fa2",
   "metadata": {},
   "source": [
    "Primary Key:\n",
    "A Primary Key is a column or a set of columns in a database table that uniquely identifies each row in that table. It ensures that each row in the table has a distinct identifier, and no two rows can have the same primary key value. The primary key is used to enforce entity integrity and is crucial for data indexing and efficient retrieval.\n",
    "\n",
    "CREATE TABLE Customers (\n",
    "    customer_id INT PRIMARY KEY,\n",
    "    first_name VARCHAR(50),\n",
    "    last_name VARCHAR(50),\n",
    "    email VARCHAR(100)\n",
    ");\n",
    "\n",
    "\n",
    "Foreign Key:\n",
    "A Foreign Key is a column or a set of columns in a table that refers to the primary key of another table. It establishes a relationship between two tables by enforcing referential integrity. The foreign key ensures that the values in the referencing table (child table) match the values in the referenced table (parent table) or are set to NULL.\n",
    "\n",
    "CREATE TABLE Customers (\n",
    "    customer_id INT PRIMARY KEY,\n",
    "    first_name VARCHAR(50),\n",
    "    last_name VARCHAR(50),\n",
    "    email VARCHAR(100)\n",
    ");\n",
    "\n",
    "CREATE TABLE Orders (\n",
    "    order_id INT PRIMARY KEY,\n",
    "    order_date DATE,\n",
    "    customer_id INT,\n",
    "    FOREIGN KEY (customer_id) REFERENCES Customers(customer_id)\n",
    ");\n"
   ]
  },
  {
   "cell_type": "markdown",
   "id": "633ed1e3-9b01-41d5-8fbd-18cf598867ab",
   "metadata": {},
   "source": [
    "#### Q6. Write a python code to connect MySQL to python. Explain the cursor() and execute() method."
   ]
  },
  {
   "cell_type": "markdown",
   "id": "96c15814-b1d1-4901-abe3-5e43a09a8fd3",
   "metadata": {},
   "source": [
    "Python code to connect MySQL to python\n",
    "\n",
    "import library\n",
    "-> import mysql.connector\n",
    "\n",
    "Replace the connection parameters with your MySQL credentials\n",
    "establish username, password, and connection\n",
    "-> connection = mysql.connector.connect(\n",
    "        host=\"localhost\",\n",
    "        user=\"your_username\",\n",
    "        password=\"your_password\"\n",
    "    )\n",
    "Your MySQL queries and operations go here\n",
    "For example, you can create a cursor and execute a query:\n",
    "-> cursor = connection.cursor()\n",
    "    cursor.execute(\"SELECT * FROM your_table;\")\n",
    "    result = cursor.fetchall()\n",
    "    for row in result:\n",
    "        print(row)\n",
    "        \n",
    "->cursor.close()\n",
    "  connection.close()\n",
    "In Python's MySQL Connector library (mysql-connector-python), the cursor() method and the execute() method are used in the context of database operations to interact with the MySQL database. Let's explain each of these methods:\n",
    "\n",
    "cursor() method:\n",
    "The cursor() method is called on a database connection object and is used to create a cursor object. A cursor is an object that allows you to interact with the database by executing SQL queries and fetching results.\n",
    "\n",
    "execute() method:\n",
    "The execute() method is called on a cursor object, and it is used to execute SQL queries or statements on the connected MySQL database."
   ]
  },
  {
   "cell_type": "markdown",
   "id": "70fe458b-813e-4d05-9ac1-80f8a1c9588a",
   "metadata": {},
   "source": [
    "#### Q7. Give the order of execution of SQL clauses in an SQL query."
   ]
  },
  {
   "cell_type": "markdown",
   "id": "12f0757f-ecde-4f2c-8cb0-5967c382ca28",
   "metadata": {},
   "source": [
    "In an SQL query, the order of execution of the SQL clauses is as follows:\n",
    "\n",
    "FROM: The FROM clause specifies the tables from which the data will be retrieved. It identifies the source tables where the database engine will fetch the data for processing.\n",
    "\n",
    "WHERE: The WHERE clause is used to filter the data based on specific conditions. It restricts the rows returned by the query by applying specified conditions to the columns.\n",
    "\n",
    "GROUP BY: The GROUP BY clause is used to group the result set based on one or more columns. It is commonly used in conjunction with aggregate functions like SUM, COUNT, AVG, etc., to perform calculations on groups of data.\n",
    "\n",
    "HAVING: The HAVING clause is used to filter the grouped data. It works similarly to the WHERE clause but is applied after the GROUP BY clause to filter groups based on specific conditions.\n",
    "\n",
    "SELECT: The SELECT clause specifies the columns to be retrieved from the table. It determines which data will be included in the query result.\n",
    "\n",
    "ORDER BY: The ORDER BY clause is used to sort the result set based on one or more columns. It arranges the data in ascending or descending order."
   ]
  }
 ],
 "metadata": {
  "kernelspec": {
   "display_name": "Python 3 (ipykernel)",
   "language": "python",
   "name": "python3"
  },
  "language_info": {
   "codemirror_mode": {
    "name": "ipython",
    "version": 3
   },
   "file_extension": ".py",
   "mimetype": "text/x-python",
   "name": "python",
   "nbconvert_exporter": "python",
   "pygments_lexer": "ipython3",
   "version": "3.10.8"
  }
 },
 "nbformat": 4,
 "nbformat_minor": 5
}
